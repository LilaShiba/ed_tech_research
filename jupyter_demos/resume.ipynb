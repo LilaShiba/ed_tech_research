{
 "cells": [
  {
   "cell_type": "code",
   "execution_count": 1,
   "id": "86b21f60",
   "metadata": {},
   "outputs": [],
   "source": [
    "import sys\n",
    "sys.path.append(\"..\")\n",
    "import agent"
   ]
  },
  {
   "cell_type": "code",
   "execution_count": null,
   "id": "e00bc777",
   "metadata": {},
   "outputs": [],
   "source": [
    "path_to_db = '/chroma_db/queer_bot'\n",
    "qp = agent.Agent(\n",
    "    \"queer_bot\", path_to_db, True)\n",
    "qp.load_course()\n",
    "qp.cot = False\n",
    "qp.start_chat()"
   ]
  },
  {
   "cell_type": "code",
   "execution_count": null,
   "id": "944d3e2e",
   "metadata": {},
   "outputs": [],
   "source": []
  }
 ],
 "metadata": {
  "kernelspec": {
   "display_name": "Python 3 (ipykernel)",
   "language": "python",
   "name": "python3"
  },
  "language_info": {
   "codemirror_mode": {
    "name": "ipython",
    "version": 3
   },
   "file_extension": ".py",
   "mimetype": "text/x-python",
   "name": "python",
   "nbconvert_exporter": "python",
   "pygments_lexer": "ipython3",
   "version": "3.10.12"
  }
 },
 "nbformat": 4,
 "nbformat_minor": 5
}
