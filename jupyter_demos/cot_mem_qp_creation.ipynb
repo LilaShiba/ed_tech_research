{
 "cells": [
  {
   "cell_type": "code",
   "execution_count": 1,
   "metadata": {},
   "outputs": [],
   "source": [
    "import sys\n",
    "sys.path.append(\"..\")\n",
    "import agent\n",
    "# !pip install -r ../requirements.txt"
   ]
  },
  {
   "cell_type": "markdown",
   "metadata": {},
   "source": [
    "### Create new agent"
   ]
  },
  {
   "cell_type": "code",
   "execution_count": 2,
   "metadata": {},
   "outputs": [
    {
     "name": "stdout",
     "output_type": "stream",
     "text": [
      "creating course\n",
      "creating encoder\n"
     ]
    },
    {
     "name": "stderr",
     "output_type": "stream",
     "text": [
      "/usr/local/lib/python3.11/site-packages/tqdm/auto.py:21: TqdmWarning: IProgress not found. Please update jupyter and ipywidgets. See https://ipywidgets.readthedocs.io/en/stable/user_install.html\n",
      "  from .autonotebook import tqdm as notebook_tqdm\n"
     ]
    },
    {
     "name": "stdout",
     "output_type": "stream",
     "text": [
      "creating chat_bot\n",
      "the knowledge document being used is documents/HilbertSpaceMulti.pdf\n",
      "docs created\n",
      "chunks created\n",
      "embedding created\n"
     ]
    },
    {
     "name": "stderr",
     "output_type": "stream",
     "text": [
      "Batches: 100%|████████████████████████████████████| 1/1 [00:07<00:00,  7.97s/it]"
     ]
    },
    {
     "name": "stdout",
     "output_type": "stream",
     "text": [
      "instance created\n"
     ]
    },
    {
     "name": "stderr",
     "output_type": "stream",
     "text": [
      "\n"
     ]
    }
   ],
   "source": [
    "qp = agent.Agent(\n",
    "    \"queer_bot\", \"documents/HilbertSpaceMulti.pdf\", True)\n",
    "qp.new_course()"
   ]
  },
  {
   "cell_type": "markdown",
   "metadata": {},
   "source": [
    "### Add to agent"
   ]
  },
  {
   "cell_type": "code",
   "execution_count": 4,
   "metadata": {},
   "outputs": [
    {
     "name": "stdout",
     "output_type": "stream",
     "text": [
      "waking up agent\n",
      "adding documents/VisualizingQuantumCircuitProbability.pdf\n",
      "docs created\n"
     ]
    },
    {
     "name": "stderr",
     "output_type": "stream",
     "text": [
      "Batches: 100%|████████████████████████████████████| 4/4 [00:25<00:00,  6.39s/it]\n"
     ]
    },
    {
     "name": "stdout",
     "output_type": "stream",
     "text": [
      "memory updated\n",
      "docs created\n"
     ]
    },
    {
     "name": "stderr",
     "output_type": "stream",
     "text": [
      "Batches: 100%|████████████████████████████████████| 1/1 [00:01<00:00,  1.74s/it]\n"
     ]
    }
   ],
   "source": [
    "path_to_db = '/chroma_db/queer_bot'\n",
    "qp.load_course()\n",
    "qp.add_memory(\"documents/VisualizingQuantumCircuitProbability.pdf\", path_to_db)"
   ]
  },
  {
   "cell_type": "code",
   "execution_count": 6,
   "metadata": {},
   "outputs": [
    {
     "name": "stdout",
     "output_type": "stream",
     "text": [
      "agent loaded\n",
      "Please ask a question about test or type 'exit' to end: Please show me how I can use qp to represent which item to select based on several parameters bounded between 0-1\n"
     ]
    },
    {
     "name": "stderr",
     "output_type": "stream",
     "text": [
      "Batches: 100%|████████████████████████████████████| 1/1 [00:00<00:00,  7.13it/s]\n"
     ]
    },
    {
     "name": "stdout",
     "output_type": "stream",
     "text": [
      "test: {'query': 'step by step, and one by one explainPlease show me how I can use qp to represent which item to select based on several parameters bounded between 0-1', 'result': \"I'm sorry, but I don't have enough information to give you a step-by-step explanation. The context you provided does not mention anything about using qp to represent item selection based on parameters bounded between 0-1. Can you please provide more specific information or clarify your question?\"}\n",
      "Please ask a question about test or type 'exit' to end: quantum probabilty\n"
     ]
    },
    {
     "name": "stderr",
     "output_type": "stream",
     "text": [
      "Batches: 100%|████████████████████████████████████| 1/1 [00:00<00:00,  9.52it/s]\n"
     ]
    },
    {
     "name": "stdout",
     "output_type": "stream",
     "text": [
      "test: {'query': 'step by step, and one by one explainquantum probabilty', 'result': 'Quantum probability is a mathematical framework used to describe the behavior of quantum systems. It involves assigning probabilities to different outcomes of measurements performed on quantum systems.\\n\\nHere is a step-by-step explanation of quantum probability:\\n\\n1. Quantum Systems: In quantum mechanics, physical systems are described by wavefunctions. A wavefunction represents the state of a quantum system and contains information about the probabilities of different outcomes when measurements are made.\\n\\n2. Superposition: One of the key features of quantum systems is superposition. This means that a quantum system can exist in multiple states simultaneously. For example, a qubit (quantum bit) can be in a superposition of being both 0 and 1 at the same time.\\n\\n3. Measurement: When a measurement is made on a quantum system, the wavefunction \"collapses\" into one of the possible outcomes. The outcome of a measurement is probabilistic, meaning that we can only predict the probability of obtaining a particular result.\\n\\n4. Probability Amplitudes: To calculate the probabilities of different outcomes, we use probability amplitudes. A probability amplitude is a complex number associated with each possible outcome of a measurement. The magnitude squared of the probability amplitude gives the probability of obtaining that particular outcome.\\n\\n5. Normalization: The sum of the squared magnitudes of all the probability amplitudes for all possible outcomes must be equal to 1. This is known as the normalization condition and ensures that the total probability of obtaining any outcome is 1.\\n\\n6. Interference: Another important concept in quantum probability is interference. When two or more probability amplitudes interfere constructively, the probabilities add up. Conversely, when they interfere destructively, the probabilities cancel out.\\n\\n7. Measurement Statistics: To obtain meaningful results from quantum probability, we need to perform measurements on a large number of identical quantum systems. By repeating the measurements many times, we can gather statistical data and determine the probabilities of different outcomes.\\n\\n8. Quantum States: The probabilities of different outcomes are associated with the quantum states of the system. The state of a quantum system is represented by a vector in a mathematical space called a Hilbert space. The probabilities of different outcomes correspond to the squared magnitudes of the components of the state vector.\\n\\nOverall, quantum probability provides a mathematical framework to describe the behavior of quantum systems and predict the probabilities of different outcomes when measurements are made. It is a fundamental concept in quantum mechanics and plays a crucial role in understanding and manipulating quantum systems.'}\n",
      "Please ask a question about test or type 'exit' to end:  Please show me how I can use qauntum probaility to represent which item to select based on several parameters bounded between 0-1 \n"
     ]
    },
    {
     "name": "stderr",
     "output_type": "stream",
     "text": [
      "Batches: 100%|████████████████████████████████████| 1/1 [00:00<00:00,  6.50it/s]\n"
     ]
    },
    {
     "name": "stdout",
     "output_type": "stream",
     "text": [
      "test: {'query': 'step by step, and one by one explain Please show me how I can use qauntum probaility to represent which item to select based on several parameters bounded between 0-1 ', 'result': 'Unfortunately, the given context does not provide specific information on how to use quantum probability to represent the selection of items based on parameters bounded between 0-1. The context primarily discusses topics such as algorithmic probability, gate sets, circuit depth, and quantum complexity. It does not directly address the use of quantum probability for item selection based on parameters.\\n\\nHowever, in quantum computing, quantum probability can be used to represent the likelihood of different outcomes occurring in a quantum system. This probability is derived from the state of the quantum system, which is described by a mathematical object called a quantum state vector.\\n\\nTo represent item selection based on parameters bounded between 0-1 using quantum probability, you would need to define a quantum system that represents the items and their corresponding parameters. The parameters could be encoded as quantum states or properties of the quantum system.\\n\\nOnce the quantum system is defined, you can manipulate and measure its quantum state to extract probabilistic information. The probabilities obtained from the measurement outcomes can then be used to make decisions about item selection based on the given parameters.\\n\\nIt is important to note that the specific implementation and techniques for using quantum probability in item selection would depend on the problem at hand and the available quantum computing resources. Without further information, it is not possible to provide a step-by-step explanation for your specific scenario.'}\n",
      "Please ask a question about test or type 'exit' to end: define a quantum system that represents the items and their corresponding score between 0-1\n"
     ]
    },
    {
     "name": "stderr",
     "output_type": "stream",
     "text": [
      "Batches: 100%|████████████████████████████████████| 1/1 [00:00<00:00,  7.78it/s]\n"
     ]
    },
    {
     "name": "stdout",
     "output_type": "stream",
     "text": [
      "test: {'query': 'step by step, and one by one explaindefine a quantum system that represents the items and their corresponding score between 0-1', 'result': 'Based on the given context, there is no specific information or explanation provided about defining a quantum system that represents items and their corresponding scores between 0-1. Therefore, it is not possible to provide a step-by-step explanation or definition for such a quantum system.'}\n",
      "Please ask a question about test or type 'exit' to end: define a quantum system that represents several scores which are bounded between 0-1 and are used to make a selection\n"
     ]
    },
    {
     "name": "stderr",
     "output_type": "stream",
     "text": [
      "Batches: 100%|████████████████████████████████████| 1/1 [00:00<00:00,  7.04it/s]\n"
     ]
    },
    {
     "name": "stdout",
     "output_type": "stream",
     "text": [
      "test: {'query': 'step by step, and one by one explaindefine a quantum system that represents several scores which are bounded between 0-1 and are used to make a selection', 'result': \"To define a quantum system that represents several scores bounded between 0 and 1 and is used to make a selection, we can follow these steps:\\n\\n1. Representation of Scores: We need to represent the scores as quantum states. In quantum computing, quantum states are represented as vectors in a complex vector space. Since the scores are bounded between 0 and 1, we can represent each score as an amplitude of a quantum state. For example, if we have three scores, we can represent them as a three-dimensional quantum state vector:\\n\\n|ψ⟩ = α|0⟩ + β|1⟩ + γ|2⟩\\n\\nHere, α, β, and γ are the amplitudes of the quantum state corresponding to each score.\\n\\n2. Normalization: To ensure that the amplitudes of the quantum state represent probabilities, we need to normalize the state vector. The sum of the squares of the amplitudes should equal 1. This normalization condition ensures that the total probability of all possible scores is equal to 1.\\n\\n|α|^2 + |β|^2 + |γ|^2 = 1\\n\\n3. Quantum Gates: To manipulate and perform operations on the quantum state representing the scores, we can use quantum gates. Quantum gates are mathematical operations that act on the state vector. Different gates can be used to perform various transformations on the state vector, such as rotations, flips, or swaps.\\n\\n4. Measurement: After performing operations on the quantum state, we can measure the state to obtain a specific score. Measurement in quantum computing involves collapsing the quantum state into one of its possible classical states with a certain probability. The probability of obtaining a particular score is proportional to the square of its amplitude in the quantum state.\\n\\n5. Selection: Based on the measurement results, we can select the score with the highest probability as the chosen score. This selection process can be done using classical post-processing techniques on the measurement outcomes.\\n\\nIt's important to note that the actual implementation and details of the quantum system will depend on the specific quantum computing platform and the quantum programming language being used. The steps outlined above provide a general framework for representing and manipulating scores using a quantum system.\"}\n",
      "Please ask a question about test or type 'exit' to end: exit\n"
     ]
    },
    {
     "name": "stderr",
     "output_type": "stream",
     "text": [
      "Batches: 100%|████████████████████████████████████| 1/1 [00:00<00:00,  7.77it/s]\n"
     ]
    },
    {
     "name": "stdout",
     "output_type": "stream",
     "text": [
      "test: {'query': 'step by step, and one by one explainexit', 'result': 'Based on the given context, it seems that the text is discussing a research paper or a technical document related to quantum computing. However, the context provided is not sufficient to determine the specific topic or purpose of the document. Without more information or specific questions, it is difficult to provide a step-by-step explanation of the content.'}\n"
     ]
    },
    {
     "ename": "KeyboardInterrupt",
     "evalue": "Interrupted by user",
     "output_type": "error",
     "traceback": [
      "\u001b[0;31m---------------------------------------------------------------------------\u001b[0m",
      "\u001b[0;31mKeyboardInterrupt\u001b[0m                         Traceback (most recent call last)",
      "Cell \u001b[0;32mIn[6], line 1\u001b[0m\n\u001b[0;32m----> 1\u001b[0m \u001b[43mqp\u001b[49m\u001b[38;5;241;43m.\u001b[39;49m\u001b[43mstart_chat\u001b[49m\u001b[43m(\u001b[49m\u001b[43m)\u001b[49m\n",
      "File \u001b[0;32m~/Desktop/ed_tech_research/jupyter_demos/../agent.py:60\u001b[0m, in \u001b[0;36mAgent.start_chat\u001b[0;34m(self)\u001b[0m\n\u001b[1;32m     52\u001b[0m \u001b[38;5;28;01mdef\u001b[39;00m \u001b[38;5;21mstart_chat\u001b[39m(\u001b[38;5;28mself\u001b[39m):\n\u001b[1;32m     53\u001b[0m \u001b[38;5;250m    \u001b[39m\u001b[38;5;124;03m\"\"\"\u001b[39;00m\n\u001b[1;32m     54\u001b[0m \u001b[38;5;124;03m    Chat with a resource\u001b[39;00m\n\u001b[1;32m     55\u001b[0m \n\u001b[0;32m   (...)\u001b[0m\n\u001b[1;32m     58\u001b[0m \u001b[38;5;124;03m        - path: Document path.\u001b[39;00m\n\u001b[1;32m     59\u001b[0m \u001b[38;5;124;03m    \"\"\"\u001b[39;00m\n\u001b[0;32m---> 60\u001b[0m     \u001b[38;5;28;43mself\u001b[39;49m\u001b[38;5;241;43m.\u001b[39;49m\u001b[43mchat_bot\u001b[49m\u001b[38;5;241;43m.\u001b[39;49m\u001b[43mload_chat\u001b[49m\u001b[43m(\u001b[49m\u001b[43m)\u001b[49m\n",
      "File \u001b[0;32m~/Desktop/ed_tech_research/jupyter_demos/../utils/chat.py:84\u001b[0m, in \u001b[0;36mChatBot.load_chat\u001b[0;34m(self)\u001b[0m\n\u001b[1;32m     82\u001b[0m exit_flag \u001b[38;5;241m=\u001b[39m \u001b[38;5;28;01mFalse\u001b[39;00m\n\u001b[1;32m     83\u001b[0m \u001b[38;5;28;01mwhile\u001b[39;00m \u001b[38;5;129;01mnot\u001b[39;00m exit_flag:\n\u001b[0;32m---> 84\u001b[0m     quest \u001b[38;5;241m=\u001b[39m \u001b[38;5;28;43minput\u001b[39;49m\u001b[43m(\u001b[49m\n\u001b[1;32m     85\u001b[0m \u001b[43m        \u001b[49m\u001b[38;5;124;43mf\u001b[39;49m\u001b[38;5;124;43m\"\u001b[39;49m\u001b[38;5;124;43mPlease ask a question about \u001b[39;49m\u001b[38;5;132;43;01m{\u001b[39;49;00m\u001b[38;5;28;43mself\u001b[39;49m\u001b[38;5;241;43m.\u001b[39;49m\u001b[43mname\u001b[49m\u001b[38;5;132;43;01m}\u001b[39;49;00m\u001b[38;5;124;43m or type \u001b[39;49m\u001b[38;5;124;43m'\u001b[39;49m\u001b[38;5;124;43mexit\u001b[39;49m\u001b[38;5;124;43m'\u001b[39;49m\u001b[38;5;124;43m to end: \u001b[39;49m\u001b[38;5;124;43m\"\u001b[39;49m\u001b[43m)\u001b[49m\n\u001b[1;32m     86\u001b[0m     quest \u001b[38;5;241m=\u001b[39m \u001b[38;5;28mself\u001b[39m\u001b[38;5;241m.\u001b[39mquestion \u001b[38;5;241m+\u001b[39m quest\n\u001b[1;32m     88\u001b[0m     \u001b[38;5;28;01mif\u001b[39;00m quest\u001b[38;5;241m.\u001b[39mlower() \u001b[38;5;241m==\u001b[39m \u001b[38;5;124m'\u001b[39m\u001b[38;5;124mexit\u001b[39m\u001b[38;5;124m'\u001b[39m:\n",
      "File \u001b[0;32m~/Library/Python/3.11/lib/python/site-packages/ipykernel/kernelbase.py:1191\u001b[0m, in \u001b[0;36mKernel.raw_input\u001b[0;34m(self, prompt)\u001b[0m\n\u001b[1;32m   1189\u001b[0m     msg \u001b[38;5;241m=\u001b[39m \u001b[38;5;124m\"\u001b[39m\u001b[38;5;124mraw_input was called, but this frontend does not support input requests.\u001b[39m\u001b[38;5;124m\"\u001b[39m\n\u001b[1;32m   1190\u001b[0m     \u001b[38;5;28;01mraise\u001b[39;00m StdinNotImplementedError(msg)\n\u001b[0;32m-> 1191\u001b[0m \u001b[38;5;28;01mreturn\u001b[39;00m \u001b[38;5;28;43mself\u001b[39;49m\u001b[38;5;241;43m.\u001b[39;49m\u001b[43m_input_request\u001b[49m\u001b[43m(\u001b[49m\n\u001b[1;32m   1192\u001b[0m \u001b[43m    \u001b[49m\u001b[38;5;28;43mstr\u001b[39;49m\u001b[43m(\u001b[49m\u001b[43mprompt\u001b[49m\u001b[43m)\u001b[49m\u001b[43m,\u001b[49m\n\u001b[1;32m   1193\u001b[0m \u001b[43m    \u001b[49m\u001b[38;5;28;43mself\u001b[39;49m\u001b[38;5;241;43m.\u001b[39;49m\u001b[43m_parent_ident\u001b[49m\u001b[43m[\u001b[49m\u001b[38;5;124;43m\"\u001b[39;49m\u001b[38;5;124;43mshell\u001b[39;49m\u001b[38;5;124;43m\"\u001b[39;49m\u001b[43m]\u001b[49m\u001b[43m,\u001b[49m\n\u001b[1;32m   1194\u001b[0m \u001b[43m    \u001b[49m\u001b[38;5;28;43mself\u001b[39;49m\u001b[38;5;241;43m.\u001b[39;49m\u001b[43mget_parent\u001b[49m\u001b[43m(\u001b[49m\u001b[38;5;124;43m\"\u001b[39;49m\u001b[38;5;124;43mshell\u001b[39;49m\u001b[38;5;124;43m\"\u001b[39;49m\u001b[43m)\u001b[49m\u001b[43m,\u001b[49m\n\u001b[1;32m   1195\u001b[0m \u001b[43m    \u001b[49m\u001b[43mpassword\u001b[49m\u001b[38;5;241;43m=\u001b[39;49m\u001b[38;5;28;43;01mFalse\u001b[39;49;00m\u001b[43m,\u001b[49m\n\u001b[1;32m   1196\u001b[0m \u001b[43m\u001b[49m\u001b[43m)\u001b[49m\n",
      "File \u001b[0;32m~/Library/Python/3.11/lib/python/site-packages/ipykernel/kernelbase.py:1234\u001b[0m, in \u001b[0;36mKernel._input_request\u001b[0;34m(self, prompt, ident, parent, password)\u001b[0m\n\u001b[1;32m   1231\u001b[0m \u001b[38;5;28;01mexcept\u001b[39;00m \u001b[38;5;167;01mKeyboardInterrupt\u001b[39;00m:\n\u001b[1;32m   1232\u001b[0m     \u001b[38;5;66;03m# re-raise KeyboardInterrupt, to truncate traceback\u001b[39;00m\n\u001b[1;32m   1233\u001b[0m     msg \u001b[38;5;241m=\u001b[39m \u001b[38;5;124m\"\u001b[39m\u001b[38;5;124mInterrupted by user\u001b[39m\u001b[38;5;124m\"\u001b[39m\n\u001b[0;32m-> 1234\u001b[0m     \u001b[38;5;28;01mraise\u001b[39;00m \u001b[38;5;167;01mKeyboardInterrupt\u001b[39;00m(msg) \u001b[38;5;28;01mfrom\u001b[39;00m \u001b[38;5;28mNone\u001b[39m\n\u001b[1;32m   1235\u001b[0m \u001b[38;5;28;01mexcept\u001b[39;00m \u001b[38;5;167;01mException\u001b[39;00m:\n\u001b[1;32m   1236\u001b[0m     \u001b[38;5;28mself\u001b[39m\u001b[38;5;241m.\u001b[39mlog\u001b[38;5;241m.\u001b[39mwarning(\u001b[38;5;124m\"\u001b[39m\u001b[38;5;124mInvalid Message:\u001b[39m\u001b[38;5;124m\"\u001b[39m, exc_info\u001b[38;5;241m=\u001b[39m\u001b[38;5;28;01mTrue\u001b[39;00m)\n",
      "\u001b[0;31mKeyboardInterrupt\u001b[0m: Interrupted by user"
     ]
    }
   ],
   "source": [
    "\n",
    "qp.start_chat()"
   ]
  },
  {
   "cell_type": "markdown",
   "metadata": {},
   "source": [
    "### Remembering "
   ]
  },
  {
   "cell_type": "code",
   "execution_count": null,
   "metadata": {},
   "outputs": [
    {
     "name": "stdout",
     "output_type": "stream",
     "text": [
      "agent loaded\n",
      "Please ask a question about test or type 'exit' to end: do you remember our past conversation\n"
     ]
    },
    {
     "name": "stderr",
     "output_type": "stream",
     "text": [
      "Batches: 100%|████████████████████████████████████| 1/1 [00:00<00:00,  9.40it/s]\n"
     ]
    },
    {
     "name": "stdout",
     "output_type": "stream",
     "text": [
      "test: {'query': 'step by step, and one by one explaindo you remember our past conversation', 'result': \"I apologize, but as a language model AI, I don't have the capability to remember past conversations. Each interaction is treated as a separate and independent conversation. Is there something specific you would like me to explain or discuss?\"}\n",
      "Please ask a question about test or type 'exit' to end: do you have the output.log\n"
     ]
    },
    {
     "name": "stderr",
     "output_type": "stream",
     "text": [
      "Batches: 100%|████████████████████████████████████| 1/1 [00:00<00:00,  9.59it/s]\n"
     ]
    },
    {
     "name": "stdout",
     "output_type": "stream",
     "text": [
      "test: {'query': 'step by step, and one by one explaindo you have the output.log', 'result': \"I'm sorry, but I don't have access to specific files or logs. Is there anything else I can help you with?\"}\n"
     ]
    }
   ],
   "source": [
    "qp.start_chat()"
   ]
  },
  {
   "cell_type": "code",
   "execution_count": null,
   "metadata": {},
   "outputs": [],
   "source": []
  }
 ],
 "metadata": {
  "kernelspec": {
   "display_name": "Python 3 (ipykernel)",
   "language": "python",
   "name": "python3"
  },
  "language_info": {
   "codemirror_mode": {
    "name": "ipython",
    "version": 3
   },
   "file_extension": ".py",
   "mimetype": "text/x-python",
   "name": "python",
   "nbconvert_exporter": "python",
   "pygments_lexer": "ipython3",
   "version": "3.11.5"
  }
 },
 "nbformat": 4,
 "nbformat_minor": 2
}
