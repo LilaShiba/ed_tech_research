{
 "cells": [
  {
   "cell_type": "code",
   "execution_count": 1,
   "metadata": {},
   "outputs": [],
   "source": [
    "import agent_pack\n",
    "from utils.metrics import ThoughtDiversity\n",
    "from collections import Counter"
   ]
  },
  {
   "cell_type": "code",
   "execution_count": 2,
   "metadata": {},
   "outputs": [
    {
     "name": "stdout",
     "output_type": "stream",
     "text": [
      "creating course for agent_corpus_cot_1\n",
      "creating encoder for agent_corpus_cot_1\n",
      "creating chat_bot for agent_corpus_cot_1\n",
      "the path being used for agent_corpus_cot_1 is documents/SND.pdf\n",
      "creating course for agent_corpus_cot_2\n",
      "creating encoder for agent_corpus_cot_2\n",
      "creating chat_bot for agent_corpus_cot_2\n",
      "the path being used for agent_corpus_cot_2 is documents/SND.pdf\n",
      "creating course for agent_corpus_cot_3\n",
      "creating encoder for agent_corpus_cot_3\n",
      "creating chat_bot for agent_corpus_cot_3\n",
      "the path being used for agent_corpus_cot_3 is ['documents/wider_deeper.pdf', 'documents/CoT_Memory_Quantum_Design.pdf', 'documents/SND.pdf', 'documents/LtoA.pdf']\n",
      "waking up agent agent_corpus_cot_1\n",
      "waking up agent agent_corpus_cot_2\n",
      "waking up agent agent_corpus_cot_3\n"
     ]
    }
   ],
   "source": [
    "'''\n",
    "Load exisiting agents into a pack\n",
    "Load metrics module for said pack\n",
    "'''\n",
    "\n",
    "main_doc_path = \"documents/SND.pdf\"\n",
    "corpus_path = [\"documents/wider_deeper.pdf\",\n",
    "               \"documents/CoT_Memory_Quantum_Design.pdf\", \"documents/SND.pdf\", \"documents/LtoA.pdf\"]\n",
    "\n",
    "agent_db_paths = [\"chroma_db/agent_corpus\",\n",
    "                  \"chroma_db/agent_cot\", \"chroma_db/agent_quant\"]\n",
    "\n",
    "\n",
    "test_agent = agent_pack.Pack(\n",
    "    corpus_path, main_doc_path, agent_db_paths)\n",
    "\n",
    "metrics = ThoughtDiversity(test_agent)"
   ]
  },
  {
   "cell_type": "code",
   "execution_count": 3,
   "metadata": {},
   "outputs": [
    {
     "data": {
      "application/vnd.jupyter.widget-view+json": {
       "model_id": "d6a6fe1896264c59be673609ab3cbae5",
       "version_major": 2,
       "version_minor": 0
      },
      "text/plain": [
       "Batches:   0%|          | 0/1 [00:00<?, ?it/s]"
      ]
     },
     "metadata": {},
     "output_type": "display_data"
    },
    {
     "data": {
      "application/vnd.jupyter.widget-view+json": {
       "model_id": "291da229e5e543c6830b2aa71dfdd32a",
       "version_major": 2,
       "version_minor": 0
      },
      "text/plain": [
       "Batches:   0%|          | 0/1 [00:00<?, ?it/s]"
      ]
     },
     "metadata": {},
     "output_type": "display_data"
    },
    {
     "data": {
      "application/vnd.jupyter.widget-view+json": {
       "model_id": "bd55de99d2664600b5834410ebf3c785",
       "version_major": 2,
       "version_minor": 0
      },
      "text/plain": [
       "Batches:   0%|          | 0/1 [00:00<?, ?it/s]"
      ]
     },
     "metadata": {},
     "output_type": "display_data"
    },
    {
     "name": "stdout",
     "output_type": "stream",
     "text": [
      "Wasserstein Distance: 0.3378760555317018\n",
      "Wasserstein Distance: 0.4462407464927266\n",
      "Wasserstein Distance: 0.14291212737512798\n"
     ]
    },
    {
     "data": {
      "application/vnd.jupyter.widget-view+json": {
       "model_id": "2a8963deee9149b3b58b86186cb6cf5d",
       "version_major": 2,
       "version_minor": 0
      },
      "text/plain": [
       "Batches:   0%|          | 0/1 [00:00<?, ?it/s]"
      ]
     },
     "metadata": {},
     "output_type": "display_data"
    },
    {
     "data": {
      "application/vnd.jupyter.widget-view+json": {
       "model_id": "45a34a1669684a02be3cd707ba16c396",
       "version_major": 2,
       "version_minor": 0
      },
      "text/plain": [
       "Batches:   0%|          | 0/1 [00:00<?, ?it/s]"
      ]
     },
     "metadata": {},
     "output_type": "display_data"
    },
    {
     "data": {
      "application/vnd.jupyter.widget-view+json": {
       "model_id": "8f7dae4400af42bc9f92bbfa8d76fd8f",
       "version_major": 2,
       "version_minor": 0
      },
      "text/plain": [
       "Batches:   0%|          | 0/1 [00:00<?, ?it/s]"
      ]
     },
     "metadata": {},
     "output_type": "display_data"
    },
    {
     "name": "stdout",
     "output_type": "stream",
     "text": [
      "Wasserstein Distance: 0.3691107052683053\n",
      "Wasserstein Distance: 0.4170705985932526\n",
      "Wasserstein Distance: 0.12249804652281059\n"
     ]
    },
    {
     "data": {
      "text/plain": [
       "[[('cot', 3.100008708912296),\n",
       "  ('cot', 3.1466934307188565),\n",
       "  ('cor', 3.1015530200714014),\n",
       "  ('cot', 3.0401205786367576),\n",
       "  ('cot', 3.1273536917159657),\n",
       "  ('cor', 3.0766443516748394)],\n",
       " [('cot', 22.198144602294295),\n",
       "  ('cot', 23.259029697434038),\n",
       "  ('cor', 22.232451928490114),\n",
       "  ('cot', 20.907764112802074),\n",
       "  ('cot', 22.813527962924912),\n",
       "  ('cor', 21.685511216618938)],\n",
       " [0.3378760555317018,\n",
       "  (1, None),\n",
       "  0.4462407464927266,\n",
       "  (2, None),\n",
       "  0.14291212737512798,\n",
       "  (3, None),\n",
       "  0.3691107052683053,\n",
       "  (1, None),\n",
       "  0.4170705985932526,\n",
       "  (2, None),\n",
       "  0.12249804652281059,\n",
       "  (3, None)]]"
      ]
     },
     "execution_count": 3,
     "metadata": {},
     "output_type": "execute_result"
    }
   ],
   "source": [
    "metrics.monte_carlo_sim(\n",
    "    \"How can wide neural nets can increase diversity with SND?\", 2)"
   ]
  },
  {
   "cell_type": "code",
   "execution_count": 4,
   "metadata": {},
   "outputs": [
    {
     "name": "stdout",
     "output_type": "stream",
     "text": [
      "shannon entropy: [('cot', 3.100008708912296), ('cot', 3.1466934307188565), ('cor', 3.1015530200714014), ('cot', 3.0401205786367576), ('cot', 3.1273536917159657), ('cor', 3.0766443516748394)], true diversity: [('cot', 22.198144602294295), ('cot', 23.259029697434038), ('cor', 22.232451928490114), ('cot', 20.907764112802074), ('cot', 22.813527962924912), ('cor', 21.685511216618938)]\n"
     ]
    }
   ],
   "source": [
    "print(\n",
    "    f'shannon entropy: {metrics.shannon_entropy_scores}, true diversity: {metrics.true_diversity_scores}')"
   ]
  }
 ],
 "metadata": {
  "kernelspec": {
   "display_name": "nlp",
   "language": "python",
   "name": "python3"
  },
  "language_info": {
   "codemirror_mode": {
    "name": "ipython",
    "version": 3
   },
   "file_extension": ".py",
   "mimetype": "text/x-python",
   "name": "python",
   "nbconvert_exporter": "python",
   "pygments_lexer": "ipython3",
   "version": "3.10.12"
  },
  "orig_nbformat": 4
 },
 "nbformat": 4,
 "nbformat_minor": 2
}
