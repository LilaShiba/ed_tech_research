{
 "cells": [
  {
   "cell_type": "code",
   "execution_count": 1,
   "metadata": {},
   "outputs": [],
   "source": [
    "import agent_pack\n",
    "from utils.metrics import ThoughtDiversity\n",
    "from collections import Counter"
   ]
  },
  {
   "cell_type": "code",
   "execution_count": 2,
   "metadata": {},
   "outputs": [
    {
     "name": "stdout",
     "output_type": "stream",
     "text": [
      "creating course for agent_cot\n",
      "creating encoder for agent_cot\n",
      "creating chat_bot for agent_cot\n",
      "the path being used for agent_cot is documents/meowsmeowing.pdf\n",
      "creating course for agent_quant\n",
      "creating encoder for agent_quant\n",
      "creating chat_bot for agent_quant\n",
      "the path being used for agent_quant is documents/meowsmeowing.pdf\n",
      "creating course for agent_corpus\n",
      "creating encoder for agent_corpus\n",
      "creating chat_bot for agent_corpus\n",
      "the path being used for agent_corpus is ['documents/ASD.pdf', 'documents/HilbertSpaceMulti.pdf', 'documents/LearnabilityandComplexityofQuantumSamples.pdf', 'documents/meowsmeowing.pdf']\n",
      "waking up agent agent_cot\n",
      "waking up agent agent_quant\n",
      "waking up agent agent_corpus\n"
     ]
    }
   ],
   "source": [
    "'''\n",
    "Load exisiting agents into a pack\n",
    "Load metrics module for said pack\n",
    "'''\n",
    "\n",
    "main_doc_path = \"documents/meowsmeowing.pdf\"\n",
    "corpus_path = ['documents/ASD.pdf', 'documents/HilbertSpaceMulti.pdf',\n",
    "               'documents/LearnabilityandComplexityofQuantumSamples.pdf', 'documents/meowsmeowing.pdf'\n",
    "               ]\n",
    "\n",
    "agent_db_paths = ['chroma_db/agent_cot',\n",
    "                  'chroma_db/agent_quant', 'chroma_db/agent_corpus']\n",
    "\n",
    "\n",
    "test_agent = agent_pack.Pack(\n",
    "    corpus_path, main_doc_path, agent_db_paths)\n",
    "\n",
    "metrics = ThoughtDiversity(test_agent)"
   ]
  },
  {
   "cell_type": "code",
   "execution_count": 3,
   "metadata": {},
   "outputs": [
    {
     "data": {
      "application/vnd.jupyter.widget-view+json": {
       "model_id": "5a2112695fdb4f30afd097427a39efa9",
       "version_major": 2,
       "version_minor": 0
      },
      "text/plain": [
       "Batches:   0%|          | 0/1 [00:00<?, ?it/s]"
      ]
     },
     "metadata": {},
     "output_type": "display_data"
    },
    {
     "data": {
      "application/vnd.jupyter.widget-view+json": {
       "model_id": "76e516440f154b269a4becc9b5a91eac",
       "version_major": 2,
       "version_minor": 0
      },
      "text/plain": [
       "Batches:   0%|          | 0/1 [00:00<?, ?it/s]"
      ]
     },
     "metadata": {},
     "output_type": "display_data"
    },
    {
     "data": {
      "text/plain": [
       "([4.7130281132022285], [111.38894807625105])"
      ]
     },
     "execution_count": 3,
     "metadata": {},
     "output_type": "execute_result"
    }
   ],
   "source": [
    "metrics.monte_carlo_sim()"
   ]
  },
  {
   "cell_type": "code",
   "execution_count": 4,
   "metadata": {},
   "outputs": [
    {
     "name": "stdout",
     "output_type": "stream",
     "text": [
      "shannon entropy: [4.7130281132022285], true diversity: [111.38894807625105]\n"
     ]
    }
   ],
   "source": [
    "print(\n",
    "    f'shannon entropy: {metrics.shannon_entropy_scores}, true diversity: {metrics.true_diversity_scores}')"
   ]
  },
  {
   "cell_type": "code",
   "execution_count": 5,
   "metadata": {},
   "outputs": [
    {
     "name": "stdout",
     "output_type": "stream",
     "text": [
      "meow\n",
      "documents/Learning to Act through Evolution of Neural Diversity in Random.pdf\n",
      "loading agent_corpus\n",
      "docs created\n",
      "chunks created\n",
      "embedding complete\n",
      "documents/Learning to Act through Evolution of Neural Diversity in Random.pdf\n",
      "loading agent_cot\n",
      "docs created\n",
      "chunks created\n",
      "embedding complete\n",
      "documents/Learning to Act through Evolution of Neural Diversity in Random.pdf\n",
      "loading agent_quant\n",
      "docs created\n",
      "chunks created\n",
      "embedding complete\n",
      "documents/System Neural Diversity- Measuring Behavioral Heterogeneity in Multi-Agent Learning.pdf\n",
      "loading agent_corpus\n",
      "docs created\n",
      "chunks created\n",
      "embedding complete\n",
      "documents/System Neural Diversity- Measuring Behavioral Heterogeneity in Multi-Agent Learning.pdf\n",
      "loading agent_cot\n",
      "docs created\n",
      "chunks created\n",
      "embedding complete\n",
      "documents/System Neural Diversity- Measuring Behavioral Heterogeneity in Multi-Agent Learning.pdf\n",
      "loading agent_quant\n",
      "docs created\n",
      "chunks created\n",
      "embedding complete\n",
      "upload successful :)\n"
     ]
    }
   ],
   "source": [
    "new_docs = ['documents/Learning to Act through Evolution of Neural Diversity in Random.pdf',\n",
    "            'documents/System Neural Diversity- Measuring Behavioral Heterogeneity in Multi-Agent Learning.pdf'\n",
    "            ]\n",
    "\n",
    "test_agent.add_docs(new_docs)"
   ]
  },
  {
   "cell_type": "code",
   "execution_count": 6,
   "metadata": {},
   "outputs": [
    {
     "data": {
      "text/plain": [
       "([4.7130281132022285, 5.151820297255462],\n",
       " [111.38894807625105, 172.74565273317774])"
      ]
     },
     "execution_count": 6,
     "metadata": {},
     "output_type": "execute_result"
    }
   ],
   "source": [
    "metrics.monte_carlo_sim()"
   ]
  },
  {
   "cell_type": "code",
   "execution_count": 7,
   "metadata": {},
   "outputs": [
    {
     "name": "stdout",
     "output_type": "stream",
     "text": [
      "shannon entropy: [4.7130281132022285, 5.151820297255462], true diversity: [111.38894807625105, 172.74565273317774]\n"
     ]
    }
   ],
   "source": [
    "print(\n",
    "    f'shannon entropy: {metrics.shannon_entropy_scores}, true diversity: {metrics.true_diversity_scores}')"
   ]
  },
  {
   "cell_type": "code",
   "execution_count": null,
   "metadata": {},
   "outputs": [],
   "source": []
  }
 ],
 "metadata": {
  "kernelspec": {
   "display_name": "nlp",
   "language": "python",
   "name": "python3"
  },
  "language_info": {
   "codemirror_mode": {
    "name": "ipython",
    "version": 3
   },
   "file_extension": ".py",
   "mimetype": "text/x-python",
   "name": "python",
   "nbconvert_exporter": "python",
   "pygments_lexer": "ipython3",
   "version": "3.10.12"
  },
  "orig_nbformat": 4
 },
 "nbformat": 4,
 "nbformat_minor": 2
}
