{
 "cells": [
  {
   "cell_type": "code",
   "execution_count": null,
   "metadata": {},
   "outputs": [],
   "source": [
    "import agent_pack\n",
    "from utils.metrics import ThoughtDiversity\n",
    "from collections import Counter"
   ]
  },
  {
   "cell_type": "code",
   "execution_count": null,
   "metadata": {},
   "outputs": [],
   "source": [
    "'''\n",
    "Load exisiting agents into a pack\n",
    "Load metrics module for said pack\n",
    "'''\n",
    "\n",
    "main_doc_path = \"documents/SND.pdf\"\n",
    "corpus_path = [\"documents/wider_deeper.pdf\",\n",
    "               \"documents/CoT_Memory_Quantum_Design.pdf\", \"documents/SND.pdf\", \"documents/LtoA.pdf\"]\n",
    "\n",
    "agent_db_paths = [\"chroma_db/agent_corpus\",\n",
    "                  \"chroma_db/agent_cot\", \"chroma_db/agent_quant\"]\n",
    "\n",
    "\n",
    "test_agent = agent_pack.Pack(\n",
    "    corpus_path, main_doc_path, agent_db_paths)\n",
    "\n",
    "metrics = ThoughtDiversity(test_agent)"
   ]
  },
  {
   "cell_type": "code",
   "execution_count": null,
   "metadata": {},
   "outputs": [],
   "source": [
    "metrics.monte_carlo_sim(\n",
    "    \"How can wide neural nets can increase diversity with SND?\", 2)"
   ]
  },
  {
   "cell_type": "code",
   "execution_count": null,
   "metadata": {},
   "outputs": [],
   "source": [
    "print(\n",
    "    f'shannon entropy: {metrics.shannon_entropy_scores}, true diversity: {metrics.true_diversity_scores}')"
   ]
  }
 ],
 "metadata": {
  "kernelspec": {
   "display_name": "nlp",
   "language": "python",
   "name": "python3"
  },
  "language_info": {
   "codemirror_mode": {
    "name": "ipython",
    "version": 3
   },
   "file_extension": ".py",
   "mimetype": "text/x-python",
   "name": "python",
   "nbconvert_exporter": "python",
   "pygments_lexer": "ipython3",
   "version": "3.10.12"
  },
  "orig_nbformat": 4
 },
 "nbformat": 4,
 "nbformat_minor": 2
}
