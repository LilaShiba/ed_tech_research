{
 "cells": [
  {
   "cell_type": "code",
   "execution_count": 1,
   "metadata": {},
   "outputs": [],
   "source": [
    "import agent_pack\n",
    "from utils.metrics import ThoughtDiversity\n",
    "from collections import Counter"
   ]
  },
  {
   "cell_type": "code",
   "execution_count": 2,
   "metadata": {},
   "outputs": [
    {
     "name": "stdout",
     "output_type": "stream",
     "text": [
      "creating course for agent_cot\n",
      "creating encoder for agent_cot\n",
      "creating chat_bot for agent_cot\n",
      "the path being used for agent_cot is documents/meowsmeowing.pdf\n",
      "creating course for agent_quant\n",
      "creating encoder for agent_quant\n",
      "creating chat_bot for agent_quant\n",
      "the path being used for agent_quant is documents/meowsmeowing.pdf\n",
      "creating course for agent_corpus\n",
      "creating encoder for agent_corpus\n",
      "creating chat_bot for agent_corpus\n",
      "the path being used for agent_corpus is ['documents/ASD.pdf', 'documents/HilbertSpaceMulti.pdf', 'documents/LearnabilityandComplexityofQuantumSamples.pdf', 'documents/meowsmeowing.pdf']\n",
      "waking up agent agent_cot\n",
      "waking up agent agent_quant\n",
      "waking up agent agent_corpus\n"
     ]
    }
   ],
   "source": [
    "'''\n",
    "Load exisiting agents into a pack\n",
    "Load metrics module for said pack\n",
    "'''\n",
    "\n",
    "main_doc_path = \"documents/meowsmeowing.pdf\"\n",
    "corpus_path = ['documents/ASD.pdf', 'documents/HilbertSpaceMulti.pdf',\n",
    "               'documents/LearnabilityandComplexityofQuantumSamples.pdf', 'documents/meowsmeowing.pdf'\n",
    "               ]\n",
    "\n",
    "agent_db_paths = ['chroma_db/agent_cot',\n",
    "                  'chroma_db/agent_quant', 'chroma_db/agent_corpus']\n",
    "\n",
    "\n",
    "test_agent = agent_pack.Pack(\n",
    "    corpus_path, main_doc_path, agent_db_paths)\n",
    "# test_agent.add_docs(['documents/kbai_book.pdf', 'documents/CoT_Memory_Quantum_Design.pdf'])\n",
    "# test_agent.chat()\n",
    "metrics = ThoughtDiversity(test_agent)"
   ]
  },
  {
   "cell_type": "code",
   "execution_count": 3,
   "metadata": {},
   "outputs": [
    {
     "data": {
      "application/vnd.jupyter.widget-view+json": {
       "model_id": "14b2456ffa764661b29e2cd55d7fdf36",
       "version_major": 2,
       "version_minor": 0
      },
      "text/plain": [
       "Batches:   0%|          | 0/1 [00:00<?, ?it/s]"
      ]
     },
     "metadata": {},
     "output_type": "display_data"
    },
    {
     "data": {
      "application/vnd.jupyter.widget-view+json": {
       "model_id": "c5e870f0d63f4978952269ff98382c7d",
       "version_major": 2,
       "version_minor": 0
      },
      "text/plain": [
       "Batches:   0%|          | 0/1 [00:00<?, ?it/s]"
      ]
     },
     "metadata": {},
     "output_type": "display_data"
    },
    {
     "ename": "TypeError",
     "evalue": "sequence item 0: expected str instance, NoneType found",
     "output_type": "error",
     "traceback": [
      "\u001b[0;31m---------------------------------------------------------------------------\u001b[0m",
      "\u001b[0;31mTypeError\u001b[0m                                 Traceback (most recent call last)",
      "\u001b[1;32m/Users/kjams/Desktop/ed_tech_research/metrics.ipynb Cell 3\u001b[0m line \u001b[0;36m1\n\u001b[0;32m----> <a href='vscode-notebook-cell:/Users/kjams/Desktop/ed_tech_research/metrics.ipynb#W2sZmlsZQ%3D%3D?line=0'>1</a>\u001b[0m metrics\u001b[39m.\u001b[39;49mmonte_carlo_sim()\n",
      "File \u001b[0;32m~/Desktop/ed_tech_research/utils/metrics.py:51\u001b[0m, in \u001b[0;36mThoughtDiversity.monte_carlo_sim\u001b[0;34m(self, rounds, agent, test_params)\u001b[0m\n\u001b[1;32m     47\u001b[0m res \u001b[39m=\u001b[39m [\u001b[39mself\u001b[39m\u001b[39m.\u001b[39mcurrent_mcs_samples\u001b[39m.\u001b[39mappend(param)\n\u001b[1;32m     48\u001b[0m        \u001b[39mfor\u001b[39;00m r \u001b[39min\u001b[39;00m \u001b[39mrange\u001b[39m(rounds) \u001b[39mfor\u001b[39;00m param \u001b[39min\u001b[39;00m test_params]\n\u001b[1;32m     50\u001b[0m \u001b[39m# Join all strings into a single string, separating them by space\u001b[39;00m\n\u001b[0;32m---> 51\u001b[0m joined_strings \u001b[39m=\u001b[39m \u001b[39m'\u001b[39;49m\u001b[39m \u001b[39;49m\u001b[39m'\u001b[39;49m\u001b[39m.\u001b[39;49mjoin(res)\n\u001b[1;32m     53\u001b[0m \u001b[39m# Split the single string into words\u001b[39;00m\n\u001b[1;32m     54\u001b[0m words \u001b[39m=\u001b[39m joined_strings\u001b[39m.\u001b[39msplit()\n",
      "\u001b[0;31mTypeError\u001b[0m: sequence item 0: expected str instance, NoneType found"
     ]
    }
   ],
   "source": [
    "metrics.monte_carlo_sim()"
   ]
  },
  {
   "cell_type": "code",
   "execution_count": 4,
   "metadata": {},
   "outputs": [
    {
     "data": {
      "text/plain": [
       "['A foundational model refers to a basic or fundamental model that serves as the underlying framework or starting point for more advanced or complex models. It often provides the basic principles, concepts, or elements that guide the development of more specialized or domain-specific models. The exact definition and application of a foundational model may vary depending on the context or field of study.',\n",
       " \"A foundational model refers to a fundamental or basic framework that serves as the building block for understanding or representing a particular subject or concept. It is often used as a starting point to develop more complex or comprehensive models.\\n\\nTo explain what a foundational model is, let's break it down step by step:\\n\\n1. Definition: A foundational model is an initial representation or framework that establishes the essential concepts, principles, and relationships of a subject or system.\\n\\n2. Purpose: The purpose of a foundational model is to provide a solid basis for further analysis, understanding, and development. It sets the groundwork for more elaborate models that can capture additional details or complexities.\\n\\n3. Simplification: A foundational model typically simplifies the subject matter by focusing on the most fundamental aspects. It helps to distill the essential elements and relationships, making it easier to comprehend and work with.\\n\\n4. Abstraction: Foundational models often incorporate abstract concepts or high-level representations to capture the core essence of the subject matter. This abstraction allows for a broader applicability of the model across various contexts.\\n\\n5. Framework: A foundational model provides a structured framework or framework that organizes the key components and their interdependencies. It establishes the basic rules or principles that govern the subject or system being modeled.\\n\\n6. Iterative process: Developing a foundational model is often an iterative process. It involves refining and revising the model over time as new information, insights, or requirements emerge.\\n\\nIt is important to note that the specifics of a foundational model can vary depending on the context and the subject being modeled. Therefore, the details of a foundational model will be different for different domains or disciplines.\",\n",
       " 'A foundational model refers to a basic or fundamental model that serves as the underlying framework or starting point for more advanced or complex models. It often provides the basic principles, concepts, or elements that guide the development of more specialized or domain-specific models. The exact definition and application of a foundational model may vary depending on the context or field of study.',\n",
       " \"A foundational model refers to a fundamental or basic framework that serves as the building block for understanding or representing a particular subject or concept. It is often used as a starting point to develop more complex or comprehensive models.\\n\\nTo explain what a foundational model is, let's break it down step by step:\\n\\n1. Definition: A foundational model is an initial representation or framework that establishes the essential concepts, principles, and relationships of a subject or system.\\n\\n2. Purpose: The purpose of a foundational model is to provide a solid basis for further analysis, understanding, and development. It sets the groundwork for more elaborate models that can capture additional details or complexities.\\n\\n3. Simplification: A foundational model typically simplifies the subject matter by focusing on the most fundamental aspects. It helps to distill the essential elements and relationships, making it easier to comprehend and work with.\\n\\n4. Abstraction: Foundational models often incorporate abstract concepts or high-level representations to capture the core essence of the subject matter. This abstraction allows for a broader applicability of the model across various contexts.\\n\\n5. Framework: A foundational model provides a structured framework or framework that organizes the key components and their interdependencies. It establishes the basic rules or principles that govern the subject or system being modeled.\\n\\n6. Iterative process: Developing a foundational model is often an iterative process. It involves refining and revising the model over time as new information, insights, or requirements emerge.\\n\\nIt is important to note that the specifics of a foundational model can vary depending on the context and the subject being modeled. Therefore, the details of a foundational model will be different for different domains or disciplines.\",\n",
       " 'A foundational model refers to a basic or fundamental model that serves as the underlying framework or starting point for more advanced or complex models. It often provides the basic principles, concepts, or elements that guide the development of more specialized or domain-specific models. The exact definition and application of a foundational model may vary depending on the context or field of study.',\n",
       " \"A foundational model refers to a fundamental or basic framework that serves as the building block for understanding or representing a particular subject or concept. It is often used as a starting point to develop more complex or comprehensive models.\\n\\nTo explain what a foundational model is, let's break it down step by step:\\n\\n1. Definition: A foundational model is an initial representation or framework that establishes the essential concepts, principles, and relationships of a subject or system.\\n\\n2. Purpose: The purpose of a foundational model is to provide a solid basis for further analysis, understanding, and development. It sets the groundwork for more elaborate models that can capture additional details or complexities.\\n\\n3. Simplification: A foundational model typically simplifies the subject matter by focusing on the most fundamental aspects. It helps to distill the essential elements and relationships, making it easier to comprehend and work with.\\n\\n4. Abstraction: Foundational models often incorporate abstract concepts or high-level representations to capture the core essence of the subject matter. This abstraction allows for a broader applicability of the model across various contexts.\\n\\n5. Framework: A foundational model provides a structured framework or framework that organizes the key components and their interdependencies. It establishes the basic rules or principles that govern the subject or system being modeled.\\n\\n6. Iterative process: Developing a foundational model is often an iterative process. It involves refining and revising the model over time as new information, insights, or requirements emerge.\\n\\nIt is important to note that the specifics of a foundational model can vary depending on the context and the subject being modeled. Therefore, the details of a foundational model will be different for different domains or disciplines.\",\n",
       " 'A foundational model refers to a basic or fundamental model that serves as the underlying framework or starting point for more advanced or complex models. It often provides the basic principles, concepts, or elements that guide the development of more specialized or domain-specific models. The exact definition and application of a foundational model may vary depending on the context or field of study.',\n",
       " \"A foundational model refers to a fundamental or basic framework that serves as the building block for understanding or representing a particular subject or concept. It is often used as a starting point to develop more complex or comprehensive models.\\n\\nTo explain what a foundational model is, let's break it down step by step:\\n\\n1. Definition: A foundational model is an initial representation or framework that establishes the essential concepts, principles, and relationships of a subject or system.\\n\\n2. Purpose: The purpose of a foundational model is to provide a solid basis for further analysis, understanding, and development. It sets the groundwork for more elaborate models that can capture additional details or complexities.\\n\\n3. Simplification: A foundational model typically simplifies the subject matter by focusing on the most fundamental aspects. It helps to distill the essential elements and relationships, making it easier to comprehend and work with.\\n\\n4. Abstraction: Foundational models often incorporate abstract concepts or high-level representations to capture the core essence of the subject matter. This abstraction allows for a broader applicability of the model across various contexts.\\n\\n5. Framework: A foundational model provides a structured framework or framework that organizes the key components and their interdependencies. It establishes the basic rules or principles that govern the subject or system being modeled.\\n\\n6. Iterative process: Developing a foundational model is often an iterative process. It involves refining and revising the model over time as new information, insights, or requirements emerge.\\n\\nIt is important to note that the specifics of a foundational model can vary depending on the context and the subject being modeled. Therefore, the details of a foundational model will be different for different domains or disciplines.\",\n",
       " 'A foundational model refers to a basic or fundamental model that serves as the underlying framework or starting point for more advanced or complex models. It often provides the basic principles, concepts, or elements that guide the development of more specialized or domain-specific models. The exact definition and application of a foundational model may vary depending on the context or field of study.',\n",
       " \"A foundational model refers to a fundamental or basic framework that serves as the building block for understanding or representing a particular subject or concept. It is often used as a starting point to develop more complex or comprehensive models.\\n\\nTo explain what a foundational model is, let's break it down step by step:\\n\\n1. Definition: A foundational model is an initial representation or framework that establishes the essential concepts, principles, and relationships of a subject or system.\\n\\n2. Purpose: The purpose of a foundational model is to provide a solid basis for further analysis, understanding, and development. It sets the groundwork for more elaborate models that can capture additional details or complexities.\\n\\n3. Simplification: A foundational model typically simplifies the subject matter by focusing on the most fundamental aspects. It helps to distill the essential elements and relationships, making it easier to comprehend and work with.\\n\\n4. Abstraction: Foundational models often incorporate abstract concepts or high-level representations to capture the core essence of the subject matter. This abstraction allows for a broader applicability of the model across various contexts.\\n\\n5. Framework: A foundational model provides a structured framework or framework that organizes the key components and their interdependencies. It establishes the basic rules or principles that govern the subject or system being modeled.\\n\\n6. Iterative process: Developing a foundational model is often an iterative process. It involves refining and revising the model over time as new information, insights, or requirements emerge.\\n\\nIt is important to note that the specifics of a foundational model can vary depending on the context and the subject being modeled. Therefore, the details of a foundational model will be different for different domains or disciplines.\",\n",
       " 'A foundational model refers to a basic or fundamental model that serves as the underlying framework or starting point for more advanced or complex models. It often provides the basic principles, concepts, or elements that guide the development of more specialized or domain-specific models. The exact definition and application of a foundational model may vary depending on the context or field of study.',\n",
       " \"A foundational model refers to a fundamental or basic framework that serves as the building block for understanding or representing a particular subject or concept. It is often used as a starting point to develop more complex or comprehensive models.\\n\\nTo explain what a foundational model is, let's break it down step by step:\\n\\n1. Definition: A foundational model is an initial representation or framework that establishes the essential concepts, principles, and relationships of a subject or system.\\n\\n2. Purpose: The purpose of a foundational model is to provide a solid basis for further analysis, understanding, and development. It sets the groundwork for more elaborate models that can capture additional details or complexities.\\n\\n3. Simplification: A foundational model typically simplifies the subject matter by focusing on the most fundamental aspects. It helps to distill the essential elements and relationships, making it easier to comprehend and work with.\\n\\n4. Abstraction: Foundational models often incorporate abstract concepts or high-level representations to capture the core essence of the subject matter. This abstraction allows for a broader applicability of the model across various contexts.\\n\\n5. Framework: A foundational model provides a structured framework or framework that organizes the key components and their interdependencies. It establishes the basic rules or principles that govern the subject or system being modeled.\\n\\n6. Iterative process: Developing a foundational model is often an iterative process. It involves refining and revising the model over time as new information, insights, or requirements emerge.\\n\\nIt is important to note that the specifics of a foundational model can vary depending on the context and the subject being modeled. Therefore, the details of a foundational model will be different for different domains or disciplines.\",\n",
       " 'A foundational model refers to a basic or fundamental model that serves as the underlying framework or starting point for more advanced or complex models. It often provides the basic principles, concepts, or elements that guide the development of more specialized or domain-specific models. The exact definition and application of a foundational model may vary depending on the context or field of study.',\n",
       " \"A foundational model refers to a fundamental or basic framework that serves as the building block for understanding or representing a particular subject or concept. It is often used as a starting point to develop more complex or comprehensive models.\\n\\nTo explain what a foundational model is, let's break it down step by step:\\n\\n1. Definition: A foundational model is an initial representation or framework that establishes the essential concepts, principles, and relationships of a subject or system.\\n\\n2. Purpose: The purpose of a foundational model is to provide a solid basis for further analysis, understanding, and development. It sets the groundwork for more elaborate models that can capture additional details or complexities.\\n\\n3. Simplification: A foundational model typically simplifies the subject matter by focusing on the most fundamental aspects. It helps to distill the essential elements and relationships, making it easier to comprehend and work with.\\n\\n4. Abstraction: Foundational models often incorporate abstract concepts or high-level representations to capture the core essence of the subject matter. This abstraction allows for a broader applicability of the model across various contexts.\\n\\n5. Framework: A foundational model provides a structured framework or framework that organizes the key components and their interdependencies. It establishes the basic rules or principles that govern the subject or system being modeled.\\n\\n6. Iterative process: Developing a foundational model is often an iterative process. It involves refining and revising the model over time as new information, insights, or requirements emerge.\\n\\nIt is important to note that the specifics of a foundational model can vary depending on the context and the subject being modeled. Therefore, the details of a foundational model will be different for different domains or disciplines.\",\n",
       " 'A foundational model refers to a basic or fundamental model that serves as the underlying framework or starting point for more advanced or complex models. It often provides the basic principles, concepts, or elements that guide the development of more specialized or domain-specific models. The exact definition and application of a foundational model may vary depending on the context or field of study.',\n",
       " \"A foundational model refers to a fundamental or basic framework that serves as the building block for understanding or representing a particular subject or concept. It is often used as a starting point to develop more complex or comprehensive models.\\n\\nTo explain what a foundational model is, let's break it down step by step:\\n\\n1. Definition: A foundational model is an initial representation or framework that establishes the essential concepts, principles, and relationships of a subject or system.\\n\\n2. Purpose: The purpose of a foundational model is to provide a solid basis for further analysis, understanding, and development. It sets the groundwork for more elaborate models that can capture additional details or complexities.\\n\\n3. Simplification: A foundational model typically simplifies the subject matter by focusing on the most fundamental aspects. It helps to distill the essential elements and relationships, making it easier to comprehend and work with.\\n\\n4. Abstraction: Foundational models often incorporate abstract concepts or high-level representations to capture the core essence of the subject matter. This abstraction allows for a broader applicability of the model across various contexts.\\n\\n5. Framework: A foundational model provides a structured framework or framework that organizes the key components and their interdependencies. It establishes the basic rules or principles that govern the subject or system being modeled.\\n\\n6. Iterative process: Developing a foundational model is often an iterative process. It involves refining and revising the model over time as new information, insights, or requirements emerge.\\n\\nIt is important to note that the specifics of a foundational model can vary depending on the context and the subject being modeled. Therefore, the details of a foundational model will be different for different domains or disciplines.\",\n",
       " 'A foundational model refers to a basic or fundamental model that serves as the underlying framework or starting point for more advanced or complex models. It often provides the basic principles, concepts, or elements that guide the development of more specialized or domain-specific models. The exact definition and application of a foundational model may vary depending on the context or field of study.',\n",
       " \"A foundational model refers to a fundamental or basic framework that serves as the building block for understanding or representing a particular subject or concept. It is often used as a starting point to develop more complex or comprehensive models.\\n\\nTo explain what a foundational model is, let's break it down step by step:\\n\\n1. Definition: A foundational model is an initial representation or framework that establishes the essential concepts, principles, and relationships of a subject or system.\\n\\n2. Purpose: The purpose of a foundational model is to provide a solid basis for further analysis, understanding, and development. It sets the groundwork for more elaborate models that can capture additional details or complexities.\\n\\n3. Simplification: A foundational model typically simplifies the subject matter by focusing on the most fundamental aspects. It helps to distill the essential elements and relationships, making it easier to comprehend and work with.\\n\\n4. Abstraction: Foundational models often incorporate abstract concepts or high-level representations to capture the core essence of the subject matter. This abstraction allows for a broader applicability of the model across various contexts.\\n\\n5. Framework: A foundational model provides a structured framework or framework that organizes the key components and their interdependencies. It establishes the basic rules or principles that govern the subject or system being modeled.\\n\\n6. Iterative process: Developing a foundational model is often an iterative process. It involves refining and revising the model over time as new information, insights, or requirements emerge.\\n\\nIt is important to note that the specifics of a foundational model can vary depending on the context and the subject being modeled. Therefore, the details of a foundational model will be different for different domains or disciplines.\",\n",
       " 'A foundational model refers to a basic or fundamental model that serves as the underlying framework or starting point for more advanced or complex models. It often provides the basic principles, concepts, or elements that guide the development of more specialized or domain-specific models. The exact definition and application of a foundational model may vary depending on the context or field of study.',\n",
       " \"A foundational model refers to a fundamental or basic framework that serves as the building block for understanding or representing a particular subject or concept. It is often used as a starting point to develop more complex or comprehensive models.\\n\\nTo explain what a foundational model is, let's break it down step by step:\\n\\n1. Definition: A foundational model is an initial representation or framework that establishes the essential concepts, principles, and relationships of a subject or system.\\n\\n2. Purpose: The purpose of a foundational model is to provide a solid basis for further analysis, understanding, and development. It sets the groundwork for more elaborate models that can capture additional details or complexities.\\n\\n3. Simplification: A foundational model typically simplifies the subject matter by focusing on the most fundamental aspects. It helps to distill the essential elements and relationships, making it easier to comprehend and work with.\\n\\n4. Abstraction: Foundational models often incorporate abstract concepts or high-level representations to capture the core essence of the subject matter. This abstraction allows for a broader applicability of the model across various contexts.\\n\\n5. Framework: A foundational model provides a structured framework or framework that organizes the key components and their interdependencies. It establishes the basic rules or principles that govern the subject or system being modeled.\\n\\n6. Iterative process: Developing a foundational model is often an iterative process. It involves refining and revising the model over time as new information, insights, or requirements emerge.\\n\\nIt is important to note that the specifics of a foundational model can vary depending on the context and the subject being modeled. Therefore, the details of a foundational model will be different for different domains or disciplines.\"]"
      ]
     },
     "execution_count": 4,
     "metadata": {},
     "output_type": "execute_result"
    }
   ],
   "source": [
    "metrics.current_mcs_samples"
   ]
  },
  {
   "cell_type": "code",
   "execution_count": 5,
   "metadata": {},
   "outputs": [],
   "source": [
    "\n",
    "words = ''.join(metrics.current_mcs_samples)\n",
    "# metrics.shannon_entropy(counts)"
   ]
  },
  {
   "cell_type": "code",
   "execution_count": 6,
   "metadata": {},
   "outputs": [],
   "source": [
    "words = words.split()\n",
    "word_count = Counter(words)\n",
    "counts = list(word_count.values())"
   ]
  },
  {
   "cell_type": "code",
   "execution_count": 9,
   "metadata": {},
   "outputs": [],
   "source": [
    "h = metrics.shannon_entropy(counts)\n",
    "d = metrics.true_diversity(counts)"
   ]
  },
  {
   "cell_type": "code",
   "execution_count": 10,
   "metadata": {},
   "outputs": [
    {
     "name": "stdout",
     "output_type": "stream",
     "text": [
      "shannon entropy: 4.6273791781454054, true diversity: 102.24574477304508\n"
     ]
    }
   ],
   "source": [
    "print(f'shannon entropy: {h}, true diversity: {d}')"
   ]
  },
  {
   "cell_type": "code",
   "execution_count": null,
   "metadata": {},
   "outputs": [],
   "source": []
  }
 ],
 "metadata": {
  "kernelspec": {
   "display_name": "nlp",
   "language": "python",
   "name": "python3"
  },
  "language_info": {
   "codemirror_mode": {
    "name": "ipython",
    "version": 3
   },
   "file_extension": ".py",
   "mimetype": "text/x-python",
   "name": "python",
   "nbconvert_exporter": "python",
   "pygments_lexer": "ipython3",
   "version": "3.10.12"
  },
  "orig_nbformat": 4
 },
 "nbformat": 4,
 "nbformat_minor": 2
}
