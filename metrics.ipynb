{
 "cells": [
  {
   "cell_type": "code",
   "execution_count": 1,
   "metadata": {},
   "outputs": [],
   "source": [
    "import agent_pack\n",
    "from utils.metrics import ThoughtDiversity\n",
    "from collections import Counter"
   ]
  },
  {
   "cell_type": "code",
   "execution_count": 2,
   "metadata": {},
   "outputs": [
    {
     "name": "stdout",
     "output_type": "stream",
     "text": [
      "creating course for agent_cot\n",
      "creating encoder for agent_cot\n",
      "creating chat_bot for agent_cot\n",
      "the path being used for agent_cot is documents/SND.pdf\n",
      "creating course for agent_quant\n",
      "creating encoder for agent_quant\n",
      "creating chat_bot for agent_quant\n",
      "the path being used for agent_quant is documents/SND.pdf\n",
      "creating course for agent_corpus\n",
      "creating encoder for agent_corpus\n",
      "creating chat_bot for agent_corpus\n",
      "the path being used for agent_corpus is ['documents/ASD.pdf', 'documents/HilbertSpaceMulti.pdf', 'documents/LearnabilityandComplexityofQuantumSamples.pdf', 'documents/meowsmeowing.pdf']\n",
      "waking up agent agent_cot\n",
      "waking up agent agent_quant\n",
      "waking up agent agent_corpus\n"
     ]
    }
   ],
   "source": [
    "'''\n",
    "Load exisiting agents into a pack\n",
    "Load metrics module for said pack\n",
    "'''\n",
    "\n",
    "main_doc_path = \"documents/SND.pdf\"\n",
    "corpus_path = ['documents/ASD.pdf', 'documents/HilbertSpaceMulti.pdf',\n",
    "               'documents/LearnabilityandComplexityofQuantumSamples.pdf', 'documents/meowsmeowing.pdf'\n",
    "               ]\n",
    "\n",
    "agent_db_paths = ['chroma_db/agent_cot',\n",
    "                  'chroma_db/agent_quant', 'chroma_db/agent_corpus']\n",
    "\n",
    "\n",
    "test_agent = agent_pack.Pack(\n",
    "    corpus_path, main_doc_path, agent_db_paths)\n",
    "\n",
    "metrics = ThoughtDiversity(test_agent)"
   ]
  },
  {
   "cell_type": "code",
   "execution_count": 3,
   "metadata": {},
   "outputs": [
    {
     "data": {
      "application/vnd.jupyter.widget-view+json": {
       "model_id": "7d05ceb27daf4192b4ae4ca60177f484",
       "version_major": 2,
       "version_minor": 0
      },
      "text/plain": [
       "Batches:   0%|          | 0/1 [00:00<?, ?it/s]"
      ]
     },
     "metadata": {},
     "output_type": "display_data"
    },
    {
     "data": {
      "application/vnd.jupyter.widget-view+json": {
       "model_id": "048555b09fae4acda0181f330a1e8482",
       "version_major": 2,
       "version_minor": 0
      },
      "text/plain": [
       "Batches:   0%|          | 0/1 [00:00<?, ?it/s]"
      ]
     },
     "metadata": {},
     "output_type": "display_data"
    },
    {
     "data": {
      "application/vnd.jupyter.widget-view+json": {
       "model_id": "23af8b99a9e94799bd742ef4e8135565",
       "version_major": 2,
       "version_minor": 0
      },
      "text/plain": [
       "Batches:   0%|          | 0/1 [00:00<?, ?it/s]"
      ]
     },
     "metadata": {},
     "output_type": "display_data"
    },
    {
     "data": {
      "application/vnd.jupyter.widget-view+json": {
       "model_id": "9567117a43bf4ce28b9270e46a59a1cb",
       "version_major": 2,
       "version_minor": 0
      },
      "text/plain": [
       "Batches:   0%|          | 0/1 [00:00<?, ?it/s]"
      ]
     },
     "metadata": {},
     "output_type": "display_data"
    },
    {
     "data": {
      "application/vnd.jupyter.widget-view+json": {
       "model_id": "bac5508bf6344a2b900e012a94960f18",
       "version_major": 2,
       "version_minor": 0
      },
      "text/plain": [
       "Batches:   0%|          | 0/1 [00:00<?, ?it/s]"
      ]
     },
     "metadata": {},
     "output_type": "display_data"
    },
    {
     "data": {
      "application/vnd.jupyter.widget-view+json": {
       "model_id": "aacc4f1a2fb44634a6f2c3e2d51db855",
       "version_major": 2,
       "version_minor": 0
      },
      "text/plain": [
       "Batches:   0%|          | 0/1 [00:00<?, ?it/s]"
      ]
     },
     "metadata": {},
     "output_type": "display_data"
    },
    {
     "data": {
      "application/vnd.jupyter.widget-view+json": {
       "model_id": "a02103a1d87b4156b6365e3c0d8d0be5",
       "version_major": 2,
       "version_minor": 0
      },
      "text/plain": [
       "Batches:   0%|          | 0/1 [00:00<?, ?it/s]"
      ]
     },
     "metadata": {},
     "output_type": "display_data"
    },
    {
     "data": {
      "application/vnd.jupyter.widget-view+json": {
       "model_id": "a689bda69f324c109578418843475859",
       "version_major": 2,
       "version_minor": 0
      },
      "text/plain": [
       "Batches:   0%|          | 0/1 [00:00<?, ?it/s]"
      ]
     },
     "metadata": {},
     "output_type": "display_data"
    },
    {
     "data": {
      "application/vnd.jupyter.widget-view+json": {
       "model_id": "c881c217c5ee455a93c9571b212b37e4",
       "version_major": 2,
       "version_minor": 0
      },
      "text/plain": [
       "Batches:   0%|          | 0/1 [00:00<?, ?it/s]"
      ]
     },
     "metadata": {},
     "output_type": "display_data"
    },
    {
     "data": {
      "application/vnd.jupyter.widget-view+json": {
       "model_id": "776b3ee947a84b0083ab0ed142785045",
       "version_major": 2,
       "version_minor": 0
      },
      "text/plain": [
       "Batches:   0%|          | 0/1 [00:00<?, ?it/s]"
      ]
     },
     "metadata": {},
     "output_type": "display_data"
    },
    {
     "data": {
      "application/vnd.jupyter.widget-view+json": {
       "model_id": "78404d7501534f3b85cfe1866577cba0",
       "version_major": 2,
       "version_minor": 0
      },
      "text/plain": [
       "Batches:   0%|          | 0/1 [00:00<?, ?it/s]"
      ]
     },
     "metadata": {},
     "output_type": "display_data"
    },
    {
     "data": {
      "application/vnd.jupyter.widget-view+json": {
       "model_id": "5ed8a483079b4d5980fd4a3b9e999bce",
       "version_major": 2,
       "version_minor": 0
      },
      "text/plain": [
       "Batches:   0%|          | 0/1 [00:00<?, ?it/s]"
      ]
     },
     "metadata": {},
     "output_type": "display_data"
    },
    {
     "data": {
      "application/vnd.jupyter.widget-view+json": {
       "model_id": "c7a52ee2f9854506ad398fb851b8be76",
       "version_major": 2,
       "version_minor": 0
      },
      "text/plain": [
       "Batches:   0%|          | 0/1 [00:00<?, ?it/s]"
      ]
     },
     "metadata": {},
     "output_type": "display_data"
    },
    {
     "data": {
      "application/vnd.jupyter.widget-view+json": {
       "model_id": "4f3fe2cb06284f3c9298169d08b8568e",
       "version_major": 2,
       "version_minor": 0
      },
      "text/plain": [
       "Batches:   0%|          | 0/1 [00:00<?, ?it/s]"
      ]
     },
     "metadata": {},
     "output_type": "display_data"
    },
    {
     "data": {
      "application/vnd.jupyter.widget-view+json": {
       "model_id": "f5512f049a604787a9f983515a48602f",
       "version_major": 2,
       "version_minor": 0
      },
      "text/plain": [
       "Batches:   0%|          | 0/1 [00:00<?, ?it/s]"
      ]
     },
     "metadata": {},
     "output_type": "display_data"
    },
    {
     "ename": "TypeError",
     "evalue": "sequence item 0: expected str instance, NoneType found",
     "output_type": "error",
     "traceback": [
      "\u001b[0;31m---------------------------------------------------------------------------\u001b[0m",
      "\u001b[0;31mTypeError\u001b[0m                                 Traceback (most recent call last)",
      "\u001b[1;32m/Users/kjams/Desktop/ed_tech_research/metrics.ipynb Cell 3\u001b[0m line \u001b[0;36m1\n\u001b[0;32m----> <a href='vscode-notebook-cell:/Users/kjams/Desktop/ed_tech_research/metrics.ipynb#W3sZmlsZQ%3D%3D?line=0'>1</a>\u001b[0m metrics\u001b[39m.\u001b[39;49mmonte_carlo_sim()\n",
      "File \u001b[0;32m~/Desktop/ed_tech_research/utils/metrics.py:46\u001b[0m, in \u001b[0;36mThoughtDiversity.monte_carlo_sim\u001b[0;34m(self, rounds)\u001b[0m\n\u001b[1;32m     44\u001b[0m logging\u001b[39m.\u001b[39minfo(res)\n\u001b[1;32m     45\u001b[0m \u001b[39m# Join all strings into a single string, separating them by space\u001b[39;00m\n\u001b[0;32m---> 46\u001b[0m joined_strings \u001b[39m=\u001b[39m \u001b[39m'\u001b[39;49m\u001b[39m \u001b[39;49m\u001b[39m'\u001b[39;49m\u001b[39m.\u001b[39;49mjoin(res)\n\u001b[1;32m     47\u001b[0m \u001b[39mprint\u001b[39m(\u001b[39m'\u001b[39m\u001b[39mgetting metrics H & D\u001b[39m\u001b[39m'\u001b[39m)\n\u001b[1;32m     48\u001b[0m \u001b[39m# Split the single string into words\u001b[39;00m\n",
      "\u001b[0;31mTypeError\u001b[0m: sequence item 0: expected str instance, NoneType found"
     ]
    }
   ],
   "source": [
    "metrics.monte_carlo_sim()"
   ]
  },
  {
   "cell_type": "code",
   "execution_count": null,
   "metadata": {},
   "outputs": [],
   "source": [
    "print(\n",
    "    f'shannon entropy: {metrics.shannon_entropy_scores}, true diversity: {metrics.true_diversity_scores}')"
   ]
  }
 ],
 "metadata": {
  "kernelspec": {
   "display_name": "nlp",
   "language": "python",
   "name": "python3"
  },
  "language_info": {
   "codemirror_mode": {
    "name": "ipython",
    "version": 3
   },
   "file_extension": ".py",
   "mimetype": "text/x-python",
   "name": "python",
   "nbconvert_exporter": "python",
   "pygments_lexer": "ipython3",
   "version": "3.10.12"
  },
  "orig_nbformat": 4
 },
 "nbformat": 4,
 "nbformat_minor": 2
}
