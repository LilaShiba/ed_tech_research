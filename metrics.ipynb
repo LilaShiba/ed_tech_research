{
 "cells": [
  {
   "cell_type": "code",
   "execution_count": 1,
   "metadata": {},
   "outputs": [],
   "source": [
    "import agent_pack\n",
    "from utils.metrics import ThoughtDiversity\n",
    "from collections import Counter"
   ]
  },
  {
   "cell_type": "code",
   "execution_count": 2,
   "metadata": {},
   "outputs": [
    {
     "name": "stdout",
     "output_type": "stream",
     "text": [
      "creating course for agent_cot\n",
      "creating encoder for agent_cot\n",
      "creating chat_bot for agent_cot\n",
      "the path being used for agent_cot is documents/SND.pdf\n",
      "creating course for agent_quant\n",
      "creating encoder for agent_quant\n",
      "creating chat_bot for agent_quant\n",
      "the path being used for agent_quant is documents/SND.pdf\n",
      "creating course for agent_corpus\n",
      "creating encoder for agent_corpus\n",
      "creating chat_bot for agent_corpus\n",
      "the path being used for agent_corpus is ['documents/ASD.pdf', 'documents/HilbertSpaceMulti.pdf', 'documents/LearnabilityandComplexityofQuantumSamples.pdf', 'documents/meowsmeowing.pdf']\n",
      "waking up agent agent_cot\n",
      "waking up agent agent_quant\n",
      "waking up agent agent_corpus\n"
     ]
    }
   ],
   "source": [
    "'''\n",
    "Load exisiting agents into a pack\n",
    "Load metrics module for said pack\n",
    "'''\n",
    "\n",
    "main_doc_path = \"documents/SND.pdf\"\n",
    "corpus_path = [\"documents/wider_deeper.pdf\",\n",
    "               \"documents/CoT_Memory_Quantum_Design.pdf\", \"documents/SND.pdf\", \"documents/LtoA.pdf\"]\n",
    "\n",
    "agent_db_paths = [0, 0, 0]\n",
    "\n",
    "\n",
    "test_agent = agent_pack.Pack(\n",
    "    corpus_path, main_doc_path, agent_db_paths)\n",
    "\n",
    "metrics = ThoughtDiversity(test_agent)"
   ]
  },
  {
   "cell_type": "code",
   "execution_count": 3,
   "metadata": {},
   "outputs": [],
   "source": [
    "# test_agent.add_docs(['documents/wider_deeper.pdf'])"
   ]
  },
  {
   "cell_type": "code",
   "execution_count": 5,
   "metadata": {},
   "outputs": [
    {
     "data": {
      "application/vnd.jupyter.widget-view+json": {
       "model_id": "0589b56d501641228518a96641124cc4",
       "version_major": 2,
       "version_minor": 0
      },
      "text/plain": [
       "Batches:   0%|          | 0/1 [00:00<?, ?it/s]"
      ]
     },
     "metadata": {},
     "output_type": "display_data"
    },
    {
     "data": {
      "application/vnd.jupyter.widget-view+json": {
       "model_id": "2aa4c0ea5e4b4ffd9175868ac549d130",
       "version_major": 2,
       "version_minor": 0
      },
      "text/plain": [
       "Batches:   0%|          | 0/1 [00:00<?, ?it/s]"
      ]
     },
     "metadata": {},
     "output_type": "display_data"
    },
    {
     "data": {
      "application/vnd.jupyter.widget-view+json": {
       "model_id": "27409a251d0e4f2e9d8f960e270c4554",
       "version_major": 2,
       "version_minor": 0
      },
      "text/plain": [
       "Batches:   0%|          | 0/1 [00:00<?, ?it/s]"
      ]
     },
     "metadata": {},
     "output_type": "display_data"
    },
    {
     "data": {
      "application/vnd.jupyter.widget-view+json": {
       "model_id": "108b1097e71c4e66b2e635ff9a29bd93",
       "version_major": 2,
       "version_minor": 0
      },
      "text/plain": [
       "Batches:   0%|          | 0/1 [00:00<?, ?it/s]"
      ]
     },
     "metadata": {},
     "output_type": "display_data"
    },
    {
     "data": {
      "application/vnd.jupyter.widget-view+json": {
       "model_id": "5599e07807cd462fbc39e0cc1e647d0f",
       "version_major": 2,
       "version_minor": 0
      },
      "text/plain": [
       "Batches:   0%|          | 0/1 [00:00<?, ?it/s]"
      ]
     },
     "metadata": {},
     "output_type": "display_data"
    },
    {
     "data": {
      "application/vnd.jupyter.widget-view+json": {
       "model_id": "c2200955749b460981d4ab440ea0837f",
       "version_major": 2,
       "version_minor": 0
      },
      "text/plain": [
       "Batches:   0%|          | 0/1 [00:00<?, ?it/s]"
      ]
     },
     "metadata": {},
     "output_type": "display_data"
    },
    {
     "data": {
      "application/vnd.jupyter.widget-view+json": {
       "model_id": "759ef2a9d0864198b51999318311eea1",
       "version_major": 2,
       "version_minor": 0
      },
      "text/plain": [
       "Batches:   0%|          | 0/1 [00:00<?, ?it/s]"
      ]
     },
     "metadata": {},
     "output_type": "display_data"
    },
    {
     "data": {
      "application/vnd.jupyter.widget-view+json": {
       "model_id": "75bd4a36c4f342fd8f37549e74ae683d",
       "version_major": 2,
       "version_minor": 0
      },
      "text/plain": [
       "Batches:   0%|          | 0/1 [00:00<?, ?it/s]"
      ]
     },
     "metadata": {},
     "output_type": "display_data"
    },
    {
     "data": {
      "application/vnd.jupyter.widget-view+json": {
       "model_id": "64b15bf9850242a18ec063bfe1798444",
       "version_major": 2,
       "version_minor": 0
      },
      "text/plain": [
       "Batches:   0%|          | 0/1 [00:00<?, ?it/s]"
      ]
     },
     "metadata": {},
     "output_type": "display_data"
    },
    {
     "data": {
      "application/vnd.jupyter.widget-view+json": {
       "model_id": "737a78daf3e34e6dabe8f3290f7c2347",
       "version_major": 2,
       "version_minor": 0
      },
      "text/plain": [
       "Batches:   0%|          | 0/1 [00:00<?, ?it/s]"
      ]
     },
     "metadata": {},
     "output_type": "display_data"
    },
    {
     "data": {
      "text/plain": [
       "([4.731980898598125],\n",
       " [113.52021179972184],\n",
       " ['{\\'agent_cot\\': \\'I\\\\\\'m sorry, but I don\\\\\\'t have enough information about \"system neural diversity\" to provide a step-by-step explanation of how wide neural nets can be measured with it. Neural diversity typically refers to the variety of neural network architectures or models being used in a system. If you can provide more details or clarify the context, I\\\\\\'ll do my best to help you.\\', \\'agent_corpus\\': \\'I\\\\\\'m sorry, but I\\\\\\'m not familiar with the term \"system neural diversity\" and how it relates to measuring the width of neural nets. Could you please provide more information or clarify your question?\\'}',\n",
       "  '{\\'agent_cot\\': \"Neural diversity refers to the variety of different neurons, or neural elements, within a neural network. It captures the heterogeneity in the types and properties of neurons present in a network. On the other hand, the width of a neural network is typically defined as the number of neurons in each layer of the network.\\\\n\\\\nTo measure the width of a neural network using system neural diversity, we can follow these steps:\\\\n\\\\n1. Evaluate the total number of neurons: Count the total number of neurons present in the network. This includes both the input and output neurons, as well as all the neurons in the hidden layers.\\\\n\\\\n2. Assess the diversity of neuron types: Analyze the different types of neurons present in the network. Neurons can have varying activation functions, connectivity patterns, or other properties. By examining the diversity of these neural elements, we can gain insights into the width of the network.\\\\n\\\\n3. Calculate the ratio of diverse neurons: Divide the number of diverse neurons by the total number of neurons in the network. This ratio will provide a measure of how wide the neural network is in terms of neural diversity.\\\\n\\\\nIt\\'s important to note that this approach may not capture all aspects of network width, as it focuses primarily on the diversity of neuron types. Other factors, such as the number of layers, the connectivity patterns, or the total number of connections, also contribute to the overall width of a neural network.\", \\'agent_corpus\\': \\'I\\\\\\'m sorry, but I don\\\\\\'t have enough information to answer your question. Could you please provide more context or clarify what you mean by \"system neural diversity\"?\\'}',\n",
       "  '{\\'agent_cot\\': \"I\\'m sorry, but I don\\'t have enough information to provide a detailed explanation on how wide neural nets can be measured using system neural diversity. Neural diversity generally refers to the variety of neural network architectures or components within a system. However, without further specifics or context about the measurement technique or framework involving system neural diversity, I am unable to provide a step-by-step explanation.\", \\'agent_corpus\\': \\'I\\\\\\'m sorry, but I don\\\\\\'t have enough information to answer your question. Could you please provide more context or clarify what you mean by \"system neural diversity\"?\\'}',\n",
       "  '{\\'agent_cot\\': \"I\\'m sorry, but I don\\'t have enough context or information to provide a step-by-step explanation of how wide neural nets can be measured with system neural diversity. Neural diversity refers to the variety of neural responses within a system, while the width of a neural net typically refers to the number of neurons or connections in the network. Can you provide more information or clarify your question?\", \\'agent_corpus\\': \\'I\\\\\\'m sorry, but I\\\\\\'m not familiar with the term \"system neural diversity.\" Could you please provide more information or clarify your question?\\'}',\n",
       "  '{\\'agent_cot\\': \"I\\'m sorry, but I don\\'t have enough information to provide a step-by-step explanation of how wide neural nets can be measured with system neural diversity. The concept of measuring the width of neural nets with system neural diversity is not familiar to me.\", \\'agent_corpus\\': \\'System neural diversity is a measure used to quantify the width of neural networks. It refers to the variation in neural architecture within a system. Specifically, it assesses the number of different types of neurons and their connectivity patterns present in a neural network. However, it should be noted that \"wide\" neural nets typically refer to networks with a large number of neurons in a given layer rather than the diversity of neuron types. Therefore, there might not be a direct correlation between measuring wide neural nets with system neural diversity.\\'}'])"
      ]
     },
     "execution_count": 5,
     "metadata": {},
     "output_type": "execute_result"
    }
   ],
   "source": [
    "metrics.monte_carlo_sim(\n",
    "    \"Explain how wide neural nets can be measured with system neural diversity \", 5)"
   ]
  },
  {
   "cell_type": "code",
   "execution_count": 6,
   "metadata": {},
   "outputs": [
    {
     "name": "stdout",
     "output_type": "stream",
     "text": [
      "shannon entropy: [4.731980898598125], true diversity: [113.52021179972184]\n"
     ]
    }
   ],
   "source": [
    "print(\n",
    "    f'shannon entropy: {metrics.shannon_entropy_scores}, true diversity: {metrics.true_diversity_scores}')"
   ]
  }
 ],
 "metadata": {
  "kernelspec": {
   "display_name": "nlp",
   "language": "python",
   "name": "python3"
  },
  "language_info": {
   "codemirror_mode": {
    "name": "ipython",
    "version": 3
   },
   "file_extension": ".py",
   "mimetype": "text/x-python",
   "name": "python",
   "nbconvert_exporter": "python",
   "pygments_lexer": "ipython3",
   "version": "3.10.12"
  },
  "orig_nbformat": 4
 },
 "nbformat": 4,
 "nbformat_minor": 2
}
