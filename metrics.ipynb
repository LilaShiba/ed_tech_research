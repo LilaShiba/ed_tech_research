{
 "cells": [
  {
   "cell_type": "code",
   "execution_count": 1,
   "metadata": {},
   "outputs": [],
   "source": [
    "import agent_pack\n",
    "from utils.metrics import ThoughtDiversity\n",
    "from collections import Counter"
   ]
  },
  {
   "cell_type": "code",
   "execution_count": 2,
   "metadata": {},
   "outputs": [
    {
     "name": "stdout",
     "output_type": "stream",
     "text": [
      "creating course for agent_corpus_cot_1\n",
      "creating encoder for agent_corpus_cot_1\n",
      "creating chat_bot for agent_corpus_cot_1\n",
      "the path being used for agent_corpus_cot_1 is documents/SND.pdf\n",
      "creating course for agent_corpus_cot_2\n",
      "creating encoder for agent_corpus_cot_2\n",
      "creating chat_bot for agent_corpus_cot_2\n",
      "the path being used for agent_corpus_cot_2 is documents/SND.pdf\n",
      "creating course for agent_corpus_cot_3\n",
      "creating encoder for agent_corpus_cot_3\n",
      "creating chat_bot for agent_corpus_cot_3\n",
      "the path being used for agent_corpus_cot_3 is ['documents/wider_deeper.pdf', 'documents/CoT_Memory_Quantum_Design.pdf', 'documents/SND.pdf', 'documents/LtoA.pdf']\n",
      "waking up agent agent_corpus_cot_1\n",
      "waking up agent agent_corpus_cot_2\n",
      "waking up agent agent_corpus_cot_3\n"
     ]
    }
   ],
   "source": [
    "'''\n",
    "Load exisiting agents into a pack\n",
    "Load metrics module for said pack\n",
    "'''\n",
    "\n",
    "main_doc_path = \"documents/SND.pdf\"\n",
    "corpus_path = [\"documents/wider_deeper.pdf\",\n",
    "               \"documents/CoT_Memory_Quantum_Design.pdf\", \"documents/SND.pdf\", \"documents/LtoA.pdf\"]\n",
    "\n",
    "agent_db_paths = [\"chroma_db/agent_corpus\",\n",
    "                  \"chroma_db/agent_cot\", \"chroma_db/agent_quant\"]\n",
    "\n",
    "\n",
    "test_agent = agent_pack.Pack(\n",
    "    corpus_path, main_doc_path, agent_db_paths)\n",
    "\n",
    "metrics = ThoughtDiversity(test_agent)"
   ]
  },
  {
   "cell_type": "code",
   "execution_count": 3,
   "metadata": {},
   "outputs": [
    {
     "data": {
      "application/vnd.jupyter.widget-view+json": {
       "model_id": "d6a6fe1896264c59be673609ab3cbae5",
       "version_major": 2,
       "version_minor": 0
      },
      "text/plain": [
       "Batches:   0%|          | 0/1 [00:00<?, ?it/s]"
      ]
     },
     "metadata": {},
     "output_type": "display_data"
    },
    {
     "data": {
      "application/vnd.jupyter.widget-view+json": {
       "model_id": "291da229e5e543c6830b2aa71dfdd32a",
       "version_major": 2,
       "version_minor": 0
      },
      "text/plain": [
       "Batches:   0%|          | 0/1 [00:00<?, ?it/s]"
      ]
     },
     "metadata": {},
     "output_type": "display_data"
    },
    {
     "data": {
      "application/vnd.jupyter.widget-view+json": {
       "model_id": "bd55de99d2664600b5834410ebf3c785",
       "version_major": 2,
       "version_minor": 0
      },
      "text/plain": [
       "Batches:   0%|          | 0/1 [00:00<?, ?it/s]"
      ]
     },
     "metadata": {},
     "output_type": "display_data"
    },
    {
     "name": "stdout",
     "output_type": "stream",
     "text": [
      "Wasserstein Distance: 0.3378760555317018\n",
      "Wasserstein Distance: 0.4462407464927266\n",
      "Wasserstein Distance: 0.14291212737512798\n"
     ]
    },
    {
     "data": {
      "application/vnd.jupyter.widget-view+json": {
       "model_id": "2a8963deee9149b3b58b86186cb6cf5d",
       "version_major": 2,
       "version_minor": 0
      },
      "text/plain": [
       "Batches:   0%|          | 0/1 [00:00<?, ?it/s]"
      ]
     },
     "metadata": {},
     "output_type": "display_data"
    },
    {
     "data": {
      "application/vnd.jupyter.widget-view+json": {
       "model_id": "45a34a1669684a02be3cd707ba16c396",
       "version_major": 2,
       "version_minor": 0
      },
      "text/plain": [
       "Batches:   0%|          | 0/1 [00:00<?, ?it/s]"
      ]
     },
     "metadata": {},
     "output_type": "display_data"
    },
    {
     "data": {
      "application/vnd.jupyter.widget-view+json": {
       "model_id": "8f7dae4400af42bc9f92bbfa8d76fd8f",
       "version_major": 2,
       "version_minor": 0
      },
      "text/plain": [
       "Batches:   0%|          | 0/1 [00:00<?, ?it/s]"
      ]
     },
     "metadata": {},
     "output_type": "display_data"
    },
    {
     "name": "stdout",
     "output_type": "stream",
     "text": [
      "Wasserstein Distance: 0.3691107052683053\n",
      "Wasserstein Distance: 0.4170705985932526\n",
      "Wasserstein Distance: 0.12249804652281059\n"
     ]
    },
    {
     "data": {
      "text/plain": [
       "[[('cot', 3.100008708912296),\n",
       "  ('cot', 3.1466934307188565),\n",
       "  ('cor', 3.1015530200714014),\n",
       "  ('cot', 3.0401205786367576),\n",
       "  ('cot', 3.1273536917159657),\n",
       "  ('cor', 3.0766443516748394)],\n",
       " [('cot', 22.198144602294295),\n",
       "  ('cot', 23.259029697434038),\n",
       "  ('cor', 22.232451928490114),\n",
       "  ('cot', 20.907764112802074),\n",
       "  ('cot', 22.813527962924912),\n",
       "  ('cor', 21.685511216618938)],\n",
       " [0.3378760555317018,\n",
       "  (1, None),\n",
       "  0.4462407464927266,\n",
       "  (2, None),\n",
       "  0.14291212737512798,\n",
       "  (3, None),\n",
       "  0.3691107052683053,\n",
       "  (1, None),\n",
       "  0.4170705985932526,\n",
       "  (2, None),\n",
       "  0.12249804652281059,\n",
       "  (3, None)]]"
      ]
     },
     "execution_count": 3,
     "metadata": {},
     "output_type": "execute_result"
    }
   ],
   "source": [
    "metrics.monte_carlo_sim(\n",
    "    \"How can wide neural nets can increase diversity with SND?\", 2)"
   ]
  },
  {
   "cell_type": "code",
   "execution_count": 4,
   "metadata": {},
   "outputs": [
    {
     "name": "stdout",
     "output_type": "stream",
     "text": [
      "shannon entropy: [('cot', 3.100008708912296), ('cot', 3.1466934307188565), ('cor', 3.1015530200714014), ('cot', 3.0401205786367576), ('cot', 3.1273536917159657), ('cor', 3.0766443516748394)], true diversity: [('cot', 22.198144602294295), ('cot', 23.259029697434038), ('cor', 22.232451928490114), ('cot', 20.907764112802074), ('cot', 22.813527962924912), ('cor', 21.685511216618938)]\n"
     ]
    }
   ],
   "source": [
    "print(\n",
    "    f'shannon entropy: {metrics.shannon_entropy_scores}, true diversity: {metrics.true_diversity_scores}')"
   ]
  },
  {
   "cell_type": "code",
   "execution_count": 5,
   "metadata": {},
   "outputs": [
    {
     "data": {
      "application/vnd.jupyter.widget-view+json": {
       "model_id": "e39f970b4c3d412f8ba4e2321bd9cfc7",
       "version_major": 2,
       "version_minor": 0
      },
      "text/plain": [
       "Batches:   0%|          | 0/1 [00:00<?, ?it/s]"
      ]
     },
     "metadata": {},
     "output_type": "display_data"
    },
    {
     "data": {
      "application/vnd.jupyter.widget-view+json": {
       "model_id": "9d2354006dbb4bada6b6a19e19b8dbb2",
       "version_major": 2,
       "version_minor": 0
      },
      "text/plain": [
       "Batches:   0%|          | 0/1 [00:00<?, ?it/s]"
      ]
     },
     "metadata": {},
     "output_type": "display_data"
    },
    {
     "data": {
      "application/vnd.jupyter.widget-view+json": {
       "model_id": "2de20f6ff4e3472a855d42b3fa669792",
       "version_major": 2,
       "version_minor": 0
      },
      "text/plain": [
       "Batches:   0%|          | 0/1 [00:00<?, ?it/s]"
      ]
     },
     "metadata": {},
     "output_type": "display_data"
    },
    {
     "name": "stdout",
     "output_type": "stream",
     "text": [
      "Wasserstein Distance: 0.14883598432652628\n",
      "Wasserstein Distance: 0.12311123003150101\n",
      "Wasserstein Distance: 0.10945265462506842\n"
     ]
    },
    {
     "data": {
      "application/vnd.jupyter.widget-view+json": {
       "model_id": "6356b0613144490293d42f36a5815cf0",
       "version_major": 2,
       "version_minor": 0
      },
      "text/plain": [
       "Batches:   0%|          | 0/1 [00:00<?, ?it/s]"
      ]
     },
     "metadata": {},
     "output_type": "display_data"
    },
    {
     "data": {
      "application/vnd.jupyter.widget-view+json": {
       "model_id": "0daa7e2be52145199fe1d2fd4bf4f1fe",
       "version_major": 2,
       "version_minor": 0
      },
      "text/plain": [
       "Batches:   0%|          | 0/1 [00:00<?, ?it/s]"
      ]
     },
     "metadata": {},
     "output_type": "display_data"
    },
    {
     "data": {
      "application/vnd.jupyter.widget-view+json": {
       "model_id": "1ba3091ed1154a74a5d94a53ae147099",
       "version_major": 2,
       "version_minor": 0
      },
      "text/plain": [
       "Batches:   0%|          | 0/1 [00:00<?, ?it/s]"
      ]
     },
     "metadata": {},
     "output_type": "display_data"
    },
    {
     "name": "stdout",
     "output_type": "stream",
     "text": [
      "Wasserstein Distance: 0.1686088631598628\n",
      "Wasserstein Distance: 0.21310919219445995\n",
      "Wasserstein Distance: 0.10337464456247651\n"
     ]
    },
    {
     "data": {
      "text/plain": [
       "[[('cot', 3.100008708912296),\n",
       "  ('cot', 3.1466934307188565),\n",
       "  ('cor', 3.1015530200714014),\n",
       "  ('cot', 3.0401205786367576),\n",
       "  ('cot', 3.1273536917159657),\n",
       "  ('cor', 3.0766443516748394),\n",
       "  ('cot', 2.8963829238235315),\n",
       "  ('cot', 2.9328470855794033),\n",
       "  ('cor', 2.938794728848396),\n",
       "  ('cot', 2.8826064149040866),\n",
       "  ('cot', 2.920260127185192),\n",
       "  ('cor', 2.9231736772880126)],\n",
       " [('cot', 22.198144602294295),\n",
       "  ('cot', 23.259029697434038),\n",
       "  ('cor', 22.232451928490114),\n",
       "  ('cot', 20.907764112802074),\n",
       "  ('cot', 22.813527962924912),\n",
       "  ('cor', 21.685511216618938),\n",
       "  ('cot', 18.10852684633979),\n",
       "  ('cot', 18.7810256375963),\n",
       "  ('cor', 18.893061322190583),\n",
       "  ('cot', 17.86076512906814),\n",
       "  ('cot', 18.5461111800268),\n",
       "  ('cor', 18.600224997541588)],\n",
       " [0.3378760555317018,\n",
       "  (1, None),\n",
       "  0.4462407464927266,\n",
       "  (2, None),\n",
       "  0.14291212737512798,\n",
       "  (3, None),\n",
       "  0.3691107052683053,\n",
       "  (1, None),\n",
       "  0.4170705985932526,\n",
       "  (2, None),\n",
       "  0.12249804652281059,\n",
       "  (3, None),\n",
       "  0.14883598432652628,\n",
       "  (1, None),\n",
       "  0.12311123003150101,\n",
       "  (2, None),\n",
       "  0.10945265462506842,\n",
       "  (3, None),\n",
       "  0.1686088631598628,\n",
       "  (1, None),\n",
       "  0.21310919219445995,\n",
       "  (2, None),\n",
       "  0.10337464456247651,\n",
       "  (3, None)]]"
      ]
     },
     "execution_count": 5,
     "metadata": {},
     "output_type": "execute_result"
    }
   ],
   "source": [
    "metrics.monte_carlo_sim(\n",
    "    \"What's a good score for Wasserstein Distance ?\", 2)"
   ]
  },
  {
   "cell_type": "code",
   "execution_count": 6,
   "metadata": {},
   "outputs": [
    {
     "data": {
      "application/vnd.jupyter.widget-view+json": {
       "model_id": "94f2d77e9abd44c48452b144d374584e",
       "version_major": 2,
       "version_minor": 0
      },
      "text/plain": [
       "Batches:   0%|          | 0/1 [00:00<?, ?it/s]"
      ]
     },
     "metadata": {},
     "output_type": "display_data"
    },
    {
     "data": {
      "application/vnd.jupyter.widget-view+json": {
       "model_id": "87b2f4773c914b43972944348b67e437",
       "version_major": 2,
       "version_minor": 0
      },
      "text/plain": [
       "Batches:   0%|          | 0/1 [00:00<?, ?it/s]"
      ]
     },
     "metadata": {},
     "output_type": "display_data"
    },
    {
     "data": {
      "application/vnd.jupyter.widget-view+json": {
       "model_id": "034fb4eb20214970a5c3ce4b5e7dc891",
       "version_major": 2,
       "version_minor": 0
      },
      "text/plain": [
       "Batches:   0%|          | 0/1 [00:00<?, ?it/s]"
      ]
     },
     "metadata": {},
     "output_type": "display_data"
    },
    {
     "name": "stdout",
     "output_type": "stream",
     "text": [
      "Wasserstein Distance: 0.17874047268614976\n",
      "Wasserstein Distance: 0.3013907255173199\n",
      "Wasserstein Distance: 0.20597695929764248\n"
     ]
    },
    {
     "data": {
      "text/plain": [
       "[[('cot', 3.100008708912296),\n",
       "  ('cot', 3.1466934307188565),\n",
       "  ('cor', 3.1015530200714014),\n",
       "  ('cot', 3.0401205786367576),\n",
       "  ('cot', 3.1273536917159657),\n",
       "  ('cor', 3.0766443516748394),\n",
       "  ('cot', 2.8963829238235315),\n",
       "  ('cot', 2.9328470855794033),\n",
       "  ('cor', 2.938794728848396),\n",
       "  ('cot', 2.8826064149040866),\n",
       "  ('cot', 2.920260127185192),\n",
       "  ('cor', 2.9231736772880126),\n",
       "  ('cot', 2.950726257577981),\n",
       "  ('cot', 2.7926537666120947),\n",
       "  ('cor', 2.968158187672083)],\n",
       " [('cot', 22.198144602294295),\n",
       "  ('cot', 23.259029697434038),\n",
       "  ('cor', 22.232451928490114),\n",
       "  ('cot', 20.907764112802074),\n",
       "  ('cot', 22.813527962924912),\n",
       "  ('cor', 21.685511216618938),\n",
       "  ('cot', 18.10852684633979),\n",
       "  ('cot', 18.7810256375963),\n",
       "  ('cor', 18.893061322190583),\n",
       "  ('cot', 17.86076512906814),\n",
       "  ('cot', 18.5461111800268),\n",
       "  ('cor', 18.600224997541588),\n",
       "  ('cot', 19.11983461184967),\n",
       "  ('cot', 16.32428320865147),\n",
       "  ('cor', 19.45605217888925)],\n",
       " [0.3378760555317018,\n",
       "  (1, None),\n",
       "  0.4462407464927266,\n",
       "  (2, None),\n",
       "  0.14291212737512798,\n",
       "  (3, None),\n",
       "  0.3691107052683053,\n",
       "  (1, None),\n",
       "  0.4170705985932526,\n",
       "  (2, None),\n",
       "  0.12249804652281059,\n",
       "  (3, None),\n",
       "  0.14883598432652628,\n",
       "  (1, None),\n",
       "  0.12311123003150101,\n",
       "  (2, None),\n",
       "  0.10945265462506842,\n",
       "  (3, None),\n",
       "  0.1686088631598628,\n",
       "  (1, None),\n",
       "  0.21310919219445995,\n",
       "  (2, None),\n",
       "  0.10337464456247651,\n",
       "  (3, None),\n",
       "  0.17874047268614976,\n",
       "  (1, None),\n",
       "  0.3013907255173199,\n",
       "  (2, None),\n",
       "  0.20597695929764248,\n",
       "  (3, None)]]"
      ]
     },
     "execution_count": 6,
     "metadata": {},
     "output_type": "execute_result"
    }
   ],
   "source": [
    "metrics.monte_carlo_sim(\n",
    "    \"Is the Wasserstein Distance bounded in a range?\", 1)"
   ]
  },
  {
   "cell_type": "code",
   "execution_count": null,
   "metadata": {},
   "outputs": [],
   "source": []
  }
 ],
 "metadata": {
  "kernelspec": {
   "display_name": "nlp",
   "language": "python",
   "name": "python3"
  },
  "language_info": {
   "codemirror_mode": {
    "name": "ipython",
    "version": 3
   },
   "file_extension": ".py",
   "mimetype": "text/x-python",
   "name": "python",
   "nbconvert_exporter": "python",
   "pygments_lexer": "ipython3",
   "version": "3.10.12"
  },
  "orig_nbformat": 4
 },
 "nbformat": 4,
 "nbformat_minor": 2
}
