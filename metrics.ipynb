{
 "cells": [
  {
   "cell_type": "code",
   "execution_count": null,
   "metadata": {},
   "outputs": [],
   "source": [
    "import agent_pack\n",
    "from utils.metrics import ThoughtDiversity\n",
    "from collections import Counter"
   ]
  },
  {
   "cell_type": "code",
   "execution_count": null,
   "metadata": {},
   "outputs": [],
   "source": [
    "'''\n",
    "Load exisiting agents into a pack\n",
    "Load metrics module for said pack\n",
    "'''\n",
    "\n",
    "main_doc_path = \"documents/SND.pdf\"\n",
    "corpus_path = ['documents/ASD.pdf', 'documents/HilbertSpaceMulti.pdf',\n",
    "               'documents/LearnabilityandComplexityofQuantumSamples.pdf', 'documents/meowsmeowing.pdf'\n",
    "               ]\n",
    "\n",
    "agent_db_paths = ['chroma_db/agent_cot',\n",
    "                  'chroma_db/agent_quant', 'chroma_db/agent_corpus']\n",
    "\n",
    "\n",
    "test_agent = agent_pack.Pack(\n",
    "    corpus_path, main_doc_path, agent_db_paths)\n",
    "\n",
    "metrics = ThoughtDiversity(test_agent)"
   ]
  },
  {
   "cell_type": "code",
   "execution_count": null,
   "metadata": {},
   "outputs": [],
   "source": [
    "# test_agent.add_docs(['documents/cot.pdf'])"
   ]
  },
  {
   "cell_type": "code",
   "execution_count": null,
   "metadata": {},
   "outputs": [],
   "source": [
    "metrics.monte_carlo_sim(\"What is a Chain of Thought in LLMs?\", 5)"
   ]
  },
  {
   "cell_type": "code",
   "execution_count": null,
   "metadata": {},
   "outputs": [],
   "source": [
    "print(\n",
    "    f'shannon entropy: {metrics.shannon_entropy_scores}, true diversity: {metrics.true_diversity_scores}')"
   ]
  }
 ],
 "metadata": {
  "kernelspec": {
   "display_name": "nlp",
   "language": "python",
   "name": "python3"
  },
  "language_info": {
   "codemirror_mode": {
    "name": "ipython",
    "version": 3
   },
   "file_extension": ".py",
   "mimetype": "text/x-python",
   "name": "python",
   "nbconvert_exporter": "python",
   "pygments_lexer": "ipython3",
   "version": "3.10.12"
  },
  "orig_nbformat": 4
 },
 "nbformat": 4,
 "nbformat_minor": 2
}
