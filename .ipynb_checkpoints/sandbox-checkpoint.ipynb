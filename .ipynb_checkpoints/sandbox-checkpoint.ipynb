{
 "cells": [
  {
   "cell_type": "code",
   "execution_count": 1,
   "id": "1154ea7b-3003-4350-a470-e17d77f88297",
   "metadata": {},
   "outputs": [],
   "source": [
    "from agent import Agent"
   ]
  },
  {
   "cell_type": "code",
   "execution_count": 2,
   "id": "da72cc37-fc90-4e76-9d82-3af68202425f",
   "metadata": {},
   "outputs": [
    {
     "name": "stdout",
     "output_type": "stream",
     "text": [
      "creating course\n",
      "creating encoder\n"
     ]
    },
    {
     "name": "stderr",
     "output_type": "stream",
     "text": [
      "/usr/local/lib/python3.11/site-packages/tqdm/auto.py:21: TqdmWarning: IProgress not found. Please update jupyter and ipywidgets. See https://ipywidgets.readthedocs.io/en/stable/user_install.html\n",
      "  from .autonotebook import tqdm as notebook_tqdm\n"
     ]
    },
    {
     "name": "stdout",
     "output_type": "stream",
     "text": [
      "creating chat_bot\n",
      "the knowledge document being used is documents/HilbertSpaceMulti.pdf\n",
      "docs created\n",
      "chunks created\n",
      "embedding created\n"
     ]
    },
    {
     "name": "stderr",
     "output_type": "stream",
     "text": [
      "Batches: 100%|████████████████████████████████████| 1/1 [00:06<00:00,  6.90s/it]"
     ]
    },
    {
     "name": "stdout",
     "output_type": "stream",
     "text": [
      "instance created\n",
      "waking up agent\n"
     ]
    },
    {
     "name": "stderr",
     "output_type": "stream",
     "text": [
      "\n"
     ]
    }
   ],
   "source": [
    "    mem_bot = Agent(\n",
    "        \"mem_bot\", 'documents/HilbertSpaceMulti.pdf', True)\n",
    "    mem_bot.new_course()\n",
    "    db_path = '/chroma_db/mem_bot'\n",
    "    mem_bot.load_course()\n",
    "#    mem_bot.start_chat()"
   ]
  },
  {
   "cell_type": "code",
   "execution_count": 3,
   "id": "559a732d-5fc4-4c11-8264-baa40fc96ad5",
   "metadata": {},
   "outputs": [
    {
     "name": "stdout",
     "output_type": "stream",
     "text": [
      "adding documents/meowsmeowing.pdf\n",
      "docs created\n"
     ]
    },
    {
     "name": "stderr",
     "output_type": "stream",
     "text": [
      "Batches: 100%|██████████████████████████████████| 39/39 [06:14<00:00,  9.60s/it]\n"
     ]
    },
    {
     "name": "stdout",
     "output_type": "stream",
     "text": [
      "memory updated\n",
      "docs created\n"
     ]
    },
    {
     "name": "stderr",
     "output_type": "stream",
     "text": [
      "Batches: 100%|████████████████████████████████████| 1/1 [00:01<00:00,  1.85s/it]\n"
     ]
    }
   ],
   "source": [
    "#mem_bot.add_memory('documents/meowsmeowing.pdf', db_path)\n"
   ]
  },
  {
   "cell_type": "code",
   "execution_count": null,
   "id": "e92d703e-8147-4344-87b5-67fbb8c68b79",
   "metadata": {},
   "outputs": [
    {
     "name": "stdout",
     "output_type": "stream",
     "text": [
      "agent loaded\n"
     ]
    },
    {
     "name": "stdin",
     "output_type": "stream",
     "text": [
      "Please ask a question about test or type 'exit' to end:  please explain what a foundational model is and the current risks and advantages they carry\n"
     ]
    },
    {
     "name": "stderr",
     "output_type": "stream",
     "text": [
      "Batches: 100%|████████████████████████████████████| 1/1 [00:00<00:00,  5.90it/s]\n"
     ]
    },
    {
     "name": "stdout",
     "output_type": "stream",
     "text": [
      "test: {'query': 'step by step, and one by one explainplease explain what a foundational model is and the current risks and advantages they carry', 'result': \"A foundational model, also known as a foundation model, refers to a large-scale, pre-trained machine learning model that serves as a starting point for various downstream tasks. These models are trained on massive amounts of raw data, and they capture a broad range of knowledge and patterns present in the data. Foundation models can then be adapted or fine-tuned for specific tasks, such as image classification, natural language understanding, or speech recognition.\\n\\nNow, let's discuss the risks and advantages associated with foundation models.\\n\\nAdvantages:\\n\\n1. Enhanced Performance: Foundation models have demonstrated remarkable performance on a wide range of tasks. They can leverage the pre-training on extensive data to better understand and interpret inputs, leading to improved accuracy and efficiency in various applications.\\n\\n2. Transfer Learning: Foundation models excel at transfer learning, where knowledge learned from a source task can be effectively applied to a related target task. This reduces the need for extensive data and computational resources for training specific models for every task.\\n\\n3. Generalizability: Foundation models are designed to be generalizable across different domains and tasks. They can learn underlying patterns and representations in the data, enabling them to adapt to new tasks and domains with minimal retraining.\\n\\nRisks:\\n\\n1. Lack of Interpretability: Foundation models often act as black boxes, where the internal mechanisms and decision-making process are not easily explainable. This lack of interpretability raises concerns about potential biases, discrimination, and unjustified outputs.\\n\\n2. Ethical Concerns: Due to their extensive use and significant impact on various domains, foundation models raise ethical concerns related to privacy, data security, and algorithmic fairness. The models can inadvertently perpetuate biases present in the training data, leading to biased or discriminatory outcomes.\\n\\n3. Overreliance and Dependency: There is a risk of overreliance and dependency on foundation models. If these models become the dominant or sole source of decision-making, it can limit diversity, innovation, and human judgment in critical tasks.\\n\\n4. Data Requirements and Resource Intensiveness: Training foundation models requires massive amounts of data and computational resources. This can create challenges for organizations or researchers with limited access to such resources and potentially widen the gap between well-funded entities and smaller players.\\n\\nIt is important to note that the field of foundation models is continuously evolving, and researchers are actively working on addressing these risks and improving the overall understanding and transparency of these models.\"}\n"
     ]
    },
    {
     "name": "stdin",
     "output_type": "stream",
     "text": [
      "Please ask a question about test or type 'exit' to end:  what steps can be taken in an nlp agent to avoid homogenizing knowdlege production?\n"
     ]
    },
    {
     "name": "stderr",
     "output_type": "stream",
     "text": [
      "Batches: 100%|████████████████████████████████████| 1/1 [00:00<00:00,  6.09it/s]\n"
     ]
    },
    {
     "name": "stdout",
     "output_type": "stream",
     "text": [
      "test: {'query': 'step by step, and one by one explainwhat steps can be taken in an nlp agent to avoid homogenizing knowdlege production?', 'result': \"To avoid homogenizing knowledge production in an NLP agent, several steps can be taken:\\n\\n1. Diverse Training Data: Use a wide range of diverse and representative training data to ensure that the NLP agent learns from a variety of perspectives and sources. This can help in capturing the diversity of knowledge and reducing the bias towards a particular viewpoint.\\n\\n2. Multi-modal Inputs: Incorporate different types of input data, such as images, videos, and audio, along with textual data. By considering multiple modalities, the NLP agent can gain a broader understanding of the world and avoid over-reliance on textual information alone.\\n\\n3. Fine-grained Labeling: Provide more fine-grained labels to the training data, instead of relying solely on coarse-grained labels. This allows the NLP agent to learn more nuanced distinctions and avoid oversimplifying complex concepts.\\n\\n4. Handling Long-range Dependencies: Develop models that can effectively capture long-range dependencies in the data, such as those occurring in books, movies, or DNA sequences. This helps in understanding and generating diverse and complex knowledge.\\n\\n5. Incorporate External Knowledge: Integrate external knowledge sources, such as knowledge graphs or ontologies, into the NLP agent's training and inference processes. By leveraging external knowledge, the agent can have a broader and more varied understanding of different domains.\\n\\n6. Adapting to Distribution Shifts: Develop techniques to analyze and understand the effect of distribution shifts on the NLP agent's performance. This can help in predicting when the agent's knowledge may become biased or outdated and enable timely adaptations to maintain a diverse and robust knowledge representation.\\n\\n7. Opening the Black Box: Explore methods to interpret and explain the internal workings of neural networks used in NLP agents. This can help in understanding the properties of intermediate layers and guide the development of new adaptation methods that exploit different representations more effectively.\\n\\n8. Minimal Inductive Biases: Investigate models with a minimal set of inductive biases that allow the data to speak for itself. This approach can avoid restrictive or task-specific suppositions, enabling the NLP agent to adapt to a diverse set of domains without compromising on generalizability.\\n\\nBy considering and implementing these steps, it is possible to mitigate the risks of homogenizing knowledge production in NLP agents and promote a more diverse and nuanced understanding of the world.\"}\n"
     ]
    },
    {
     "name": "stdin",
     "output_type": "stream",
     "text": [
      "Please ask a question about test or type 'exit' to end:  please give a summary and sources used to make the main points in chapter 1.1 of Emergence and homogenization on foundational models \n"
     ]
    },
    {
     "name": "stderr",
     "output_type": "stream",
     "text": [
      "Batches: 100%|████████████████████████████████████| 1/1 [00:00<00:00,  5.82it/s]\n"
     ]
    },
    {
     "name": "stdout",
     "output_type": "stream",
     "text": [
      "test: {'query': 'step by step, and one by one explainplease give a summary and sources used to make the main points in chapter 1.1 of Emergence and homogenization on foundational models ', 'result': 'I\\'m sorry, but I don\\'t have access to the specific chapter you mentioned, \"1.1 Emergence and homogenization on foundational models.\" Therefore, I cannot provide a summary or identify the specific sources used to make the main points in that chapter. However, based on the context you provided, I can give you a general understanding of the key ideas discussed in the document.\\n\\nThe document discusses the opportunities and risks associated with foundation models, specifically in the context of healthcare and biomedicine. It emphasizes the importance of explainability in these fields, as well as the incorporation of knowledge graphs to improve model explainability. The training and adaptation phases of foundation models are explored, and the need for theoretical formulations and modularizations is highlighted.\\n\\nThe document also cautions against self-generated explanations by models and emphasizes the importance of distinguishing between plausible-sounding explanations and true insights into model behavior. Understanding the mechanisms and representations within foundation models is identified as a crucial step in thoroughly understanding these models and their wide range of behaviors in different tasks and domains.\\n\\nPlease note that the above summary is based on the provided context and does not directly cover the content of chapter 1.1.'}\n"
     ]
    },
    {
     "name": "stdin",
     "output_type": "stream",
     "text": [
      "Please ask a question about test or type 'exit' to end:  how can I utilize Emergence and avoid homogenization in foundational models \n"
     ]
    },
    {
     "name": "stderr",
     "output_type": "stream",
     "text": [
      "Batches: 100%|████████████████████████████████████| 1/1 [00:00<00:00,  8.19it/s]\n"
     ]
    },
    {
     "name": "stdout",
     "output_type": "stream",
     "text": [
      "test: {'query': 'step by step, and one by one explainhow can I utilize Emergence and avoid homogenization in foundational models ', 'result': \"Utilizing emergence and avoiding homogenization in foundational models involves considering the unique capabilities and potential of these models while also maintaining diversity and flexibility in their application. Here is a step-by-step explanation:\\n\\n1. Understand the concept of emergence: Emergence refers to the ability of a foundation model to infer or generate functionalities and features automatically from examples or data. Recognize that emergence allows for the development of sophisticated models without the need for extensive data collection or training from scratch.\\n\\n2. Recognize the high ceiling of foundation models: Foundation models offer powerful generative and potentially multi-modal capabilities, enabling a wide range of interactions with high quality and diversity. Acknowledge the potential for significantly advancing the quality and potential of AI-infused applications.\\n\\n3. Reflect on the rise of homogenization in AI research: Consider the historical development of AI, particularly the emergence and homogenization of methodologies. This includes the shift from manually defining how tasks are performed to the emergence of task performance through machine learning, the emergence of high-level features through deep learning, and now the emergence of advanced functionalities through foundation models.\\n\\n4. Embrace the benefits of homogenization: Recognize that homogenization in machine learning systems, such as using common learning algorithms or model architectures, provides strong leverage across a wide range of applications. Understand that homogenization streamlines development processes and allows for knowledge transfer between different tasks.\\n\\n5. Avoid single points of failure: Understand that relying too heavily on homogenization can create single points of failure, where a failure in one aspect affects the entire system. Be mindful of this and strive for diversity and redundancy in your models and approaches.\\n\\n6. Utilize emergence and homogenization strategically: Leverage the emergence capabilities of foundation models to quickly prototype AI-infused applications without extensive data or model development. Simultaneously, be cautious of over-reliance on homogenization and strive for a balance between standardization and diversity in your models.\\n\\n7. Explore model behavior and mechanisms: Engage in interpretability and exploratory studies to understand the representations and mechanisms within foundation models. Investigate which aspects are most relevant or general for model behavior. Deep understanding of the mechanisms operating within foundation models is crucial for effectively utilizing their wide range of behaviors in different domains and tasks.\\n\\n8. Be discerning of explanations and insights: Understand that foundation models have the ability to create plausible-sounding explanations, but it is important to differentiate between these explanations and true insights into the model's behavior. Be critical and discerning in evaluating the validity and reliability of explanations provided by the model.\\n\\nBy following these steps, you can effectively utilize emergence in foundation models while avoiding homogenization, allowing for the development of diverse and flexible AI applications.\"}\n"
     ]
    },
    {
     "name": "stdin",
     "output_type": "stream",
     "text": [
      "Please ask a question about test or type 'exit' to end:  what are transformers and dual-encoders\n"
     ]
    },
    {
     "name": "stderr",
     "output_type": "stream",
     "text": [
      "Batches: 100%|████████████████████████████████████| 1/1 [00:00<00:00,  4.10it/s]\n"
     ]
    },
    {
     "name": "stdout",
     "output_type": "stream",
     "text": [
      "test: {'query': 'step by step, and one by one explainwhat are transformers and dual-encoders', 'result': 'Transformers:\\n\\n1. Transformers are a type of neural network architecture that was introduced in a landmark paper called \"Attention Is All You Need\" by Vaswani et al. in 2017.\\n\\n2. Transformers are designed to handle sequential data, such as sentences or time series, by leveraging the concept of self-attention.\\n\\n3. Self-attention allows the model to weigh the importance of different words or elements in a sequence when processing each word or element. This allows the model to focus on relevant information and capture dependencies between different parts of the sequence.\\n\\n4. In a transformer, the input sequence is divided into multiple tokens, and each token is embedded into a high-dimensional vector representation.\\n\\n5. These embedded tokens are then passed through multiple layers of self-attention and feed-forward neural networks.\\n\\n6. Each layer in the transformer has two sub-layers: the self-attention mechanism and a position-wise feed-forward neural network.\\n\\n7. The self-attention mechanism computes attention scores for each token in the sequence based on its similarity to other tokens, and then combines the embeddings of all tokens based on these attention scores.\\n\\n8. The position-wise feed-forward neural network applies a non-linear transformation to each token\\'s embedding individually.\\n\\n9. By stacking multiple layers of self-attention and feed-forward neural networks, transformers can capture complex dependencies and long-range interactions within the input sequence.\\n\\nDual-Encoders:\\n\\n1. Dual-encoders are a type of model architecture commonly used in natural language processing (NLP) tasks, such as sentence similarity or question-answering.\\n\\n2. The main idea behind dual-encoders is to have two separate encoders that process each input separately and encode it into a fixed-dimensional vector representation.\\n\\n3. For example, in a sentence similarity task, the two encoders take two different sentences as input and encode them into vector representations.\\n\\n4. These vector representations capture the semantic meaning of the input sentences in a lower-dimensional space.\\n\\n5. The encoded representations from the two encoders are then compared using a similarity metric, such as cosine similarity or dot product, to determine the similarity or dissimilarity between the input sentences.\\n\\n6. Dual-encoders can be trained using various methods, including supervised learning with labeled data or unsupervised learning with self-supervised or contrastive learning objectives.\\n\\n7. The advantage of the dual-encoder architecture is its ability to capture the semantic similarity or relatedness between pairs of input sequences without explicitly modeling their internal structures.\\n\\n8. Dual-encoders have been successfully applied in tasks like paraphrase identification, text classification, question-answering, and other NLP tasks that involve measuring the similarity between pairs of inputs.'}\n"
     ]
    },
    {
     "name": "stdin",
     "output_type": "stream",
     "text": [
      "Please ask a question about test or type 'exit' to end:   explain what are transformers and dual-encoders. Please provide sources in apa format for the claims made. Thank you.\n"
     ]
    },
    {
     "name": "stderr",
     "output_type": "stream",
     "text": [
      "Batches: 100%|████████████████████████████████████| 1/1 [00:00<00:00,  5.49it/s]\n"
     ]
    },
    {
     "name": "stdout",
     "output_type": "stream",
     "text": [
      "test: {'query': 'step by step, and one by one explain explain what are transformers and dual-encoders. Please provide sources in apa format for the claims made. Thank you.', 'result': 'Transformers: \\n\\nTransformers are a type of deep learning model architecture that has revolutionized various natural language processing (NLP) tasks. They were initially introduced in the paper \"Attention is All You Need\" by Vaswani et al. (2017). Transformers excel in tasks such as machine translation, text classification, and text generation. \\n\\nUnlike traditional recurrent neural networks (RNNs) or convolutional neural networks (CNNs), transformers rely on the self-attention mechanism. Self-attention allows the model to weigh the importance of different parts of the input sequence when generating the output. This attention mechanism enables transformers to capture long-range dependencies and effectively process sequential data without the use of recurrent connections. \\n\\nTransformers consist of an encoder-decoder architecture, where the encoder processes the input sequence and the decoder generates the output sequence. The encoder consists of multiple layers, each containing sublayers of multi-head self-attention and feed-forward neural networks. The decoder also includes an additional sublayer of masked self-attention to prevent attending to future tokens during training. The input tokens are transformed into continuous vector representations called embeddings, which are then passed through the encoder-decoder layers to produce the final output. \\n\\nDual-Encoders: \\n\\nDual-encoders are a type of architecture used in NLP tasks such as sentence similarity, paraphrase detection, and question answering. They are designed to encode two input sequences into fixed-length representations, which are then compared to determine their semantic similarity. \\n\\nDual-encoders typically consist of two identical encoders that process the two input sequences independently. Each encoder is responsible for transforming its respective input sequence into a fixed-length vector representation. These representations capture the semantic information of the input sequences. \\n\\nAfter encoding the input sequences, a similarity metric is applied to compare the encoded representations. Different similarity metrics can be used, such as cosine similarity or Euclidean distance. The similarity score provides an indication of how similar the input sequences are in terms of their underlying meaning or content. \\n\\nDual-encoders are trained using labeled data, where pairs of input sequences are provided along with their corresponding similarity labels. The model is then trained to optimize a similarity-based loss function, such as contrastive loss or triplet loss, to minimize the difference between the predicted similarity scores and the ground truth labels. \\n\\nSources:\\n- Vaswani, A., Shazeer, N., Parmar, N., Uszkoreit, J., Jones, L., Gomez, A. N., ... & Polosukhin, I. (2017). Attention is All You Need. In Advances in Neural Information Processing Systems (pp. 5998-6008). APA.\\n\\nPlease note that the provided sources are for the original papers introducing transformers and may not specifically cover all aspects of transformers and dual-encoders mentioned in the given context.'}\n"
     ]
    },
    {
     "name": "stdin",
     "output_type": "stream",
     "text": [
      "Please ask a question about test or type 'exit' to end:  would you consider RAG a foundational model?\n"
     ]
    },
    {
     "name": "stderr",
     "output_type": "stream",
     "text": [
      "Batches: 100%|████████████████████████████████████| 1/1 [00:00<00:00,  8.59it/s]\n"
     ]
    },
    {
     "name": "stdout",
     "output_type": "stream",
     "text": [
      "test: {'query': 'step by step, and one by one explainwould you consider RAG a foundational model?', 'result': 'Based on the given context, there is no specific mention of the RAG (Retrieval-Augmented Generation) model. Therefore, it is not possible to determine whether RAG is considered a foundational model or not.'}\n"
     ]
    },
    {
     "name": "stdin",
     "output_type": "stream",
     "text": [
      "Please ask a question about test or type 'exit' to end:  define in a simple way what a foundational model is\n"
     ]
    },
    {
     "name": "stderr",
     "output_type": "stream",
     "text": [
      "Batches: 100%|████████████████████████████████████| 1/1 [00:00<00:00,  8.10it/s]\n"
     ]
    },
    {
     "name": "stdout",
     "output_type": "stream",
     "text": [
      "test: {'query': 'step by step, and one by one explaindefine in a simple way what a foundational model is', 'result': 'A foundational model, also known as a foundation model, is a type of machine learning model that serves as a basis or starting point for developing other more specialized models. It is like a building block that can be adapted and customized for different tasks and domains. \\n\\nA foundational model is designed to have a wide range of abilities and can perform various tasks. It contains representations, which are essentially the knowledge and information the model has learned from training data. These representations are processed by mechanisms within the model, which are the operations and processes that the model uses to make predictions or perform tasks.\\n\\nThe goal of a foundational model is to be flexible and adaptable, so it can be applied to different applications and domains. However, since foundational models are general-purpose, they may not always have a deep understanding of the specific problem they are being used for.\\n\\nIt is important to note that foundational models can have societal impact, both positive and negative. They have the potential to perpetuate existing inequities or discriminations, so it is crucial to consider fairness and ethical implications when developing and deploying these models.\\n\\nIn summary, a foundational model is a versatile machine learning model that can be customized and adapted for various tasks and domains. It serves as a starting point for developing more specialized models and should be used with careful consideration of its potential impacts.'}\n"
     ]
    },
    {
     "name": "stdin",
     "output_type": "stream",
     "text": [
      "Please ask a question about test or type 'exit' to end:  what are common benchmarks and datasets for foundational models?\n"
     ]
    },
    {
     "name": "stderr",
     "output_type": "stream",
     "text": [
      "Batches: 100%|████████████████████████████████████| 1/1 [00:00<00:00,  8.55it/s]\n"
     ]
    },
    {
     "name": "stdout",
     "output_type": "stream",
     "text": [
      "test: {'query': 'step by step, and one by one explainwhat are common benchmarks and datasets for foundational models?', 'result': \"I'm not able to provide a step-by-step explanation of common benchmarks and datasets for foundational models as the provided context doesn't mention specific benchmarks or datasets.\"}\n"
     ]
    },
    {
     "name": "stdin",
     "output_type": "stream",
     "text": [
      "Please ask a question about test or type 'exit' to end:  what results support the idea that foundational models have emgerant properties?\n"
     ]
    },
    {
     "name": "stderr",
     "output_type": "stream",
     "text": [
      "Batches: 100%|████████████████████████████████████| 1/1 [00:00<00:00,  8.36it/s]\n"
     ]
    },
    {
     "name": "stdout",
     "output_type": "stream",
     "text": [
      "test: {'query': 'step by step, and one by one explainwhat results support the idea that foundational models have emgerant properties?', 'result': 'Based on the given context, there is no specific information provided about the results that support the idea that foundational models have emergent properties. The context mainly discusses the importance of understanding the mechanisms and representations within foundation models, the potential to generalize to different tasks, and the challenges associated with working with foundation models. However, it does not provide specific evidence or results regarding emergent properties of these models.'}\n"
     ]
    },
    {
     "name": "stdin",
     "output_type": "stream",
     "text": [
      "Please ask a question about test or type 'exit' to end:  exit\n"
     ]
    },
    {
     "name": "stderr",
     "output_type": "stream",
     "text": [
      "Batches: 100%|████████████████████████████████████| 1/1 [00:00<00:00,  8.60it/s]\n"
     ]
    },
    {
     "name": "stdout",
     "output_type": "stream",
     "text": [
      "test: {'query': 'step by step, and one by one explainexit', 'result': \"I'm sorry, but I don't have enough information to provide a step-by-step explanation. Can you please provide more context or specify what you would like me to explain?\"}\n"
     ]
    }
   ],
   "source": [
    "mem_bot.start_chat()"
   ]
  },
  {
   "cell_type": "code",
   "execution_count": null,
   "id": "198d79ff-c723-4446-9609-9b7278e67472",
   "metadata": {},
   "outputs": [],
   "source": [
    "mem_bot.load_course()"
   ]
  },
  {
   "cell_type": "code",
   "execution_count": null,
   "id": "34e239ba-4729-4ab3-bd57-980eed94f946",
   "metadata": {},
   "outputs": [],
   "source": []
  }
 ],
 "metadata": {
  "kernelspec": {
   "display_name": "Python 3 (ipykernel)",
   "language": "python",
   "name": "python3"
  },
  "language_info": {
   "codemirror_mode": {
    "name": "ipython",
    "version": 3
   },
   "file_extension": ".py",
   "mimetype": "text/x-python",
   "name": "python",
   "nbconvert_exporter": "python",
   "pygments_lexer": "ipython3",
   "version": "3.11.5"
  }
 },
 "nbformat": 4,
 "nbformat_minor": 5
}
