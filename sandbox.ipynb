{
 "cells": [
  {
   "cell_type": "code",
   "execution_count": 1,
   "id": "1154ea7b-3003-4350-a470-e17d77f88297",
   "metadata": {},
   "outputs": [],
   "source": [
    "from agent import Agent"
   ]
  },
  {
   "cell_type": "code",
   "execution_count": 2,
   "id": "da72cc37-fc90-4e76-9d82-3af68202425f",
   "metadata": {},
   "outputs": [
    {
     "name": "stdout",
     "output_type": "stream",
     "text": [
      "creating course\n",
      "creating encoder\n"
     ]
    },
    {
     "name": "stderr",
     "output_type": "stream",
     "text": [
      "/usr/local/lib/python3.11/site-packages/tqdm/auto.py:21: TqdmWarning: IProgress not found. Please update jupyter and ipywidgets. See https://ipywidgets.readthedocs.io/en/stable/user_install.html\n",
      "  from .autonotebook import tqdm as notebook_tqdm\n"
     ]
    },
    {
     "name": "stdout",
     "output_type": "stream",
     "text": [
      "creating chat_bot\n",
      "the knowledge document being used is documents/HilbertSpaceMulti.pdf\n",
      "docs created\n",
      "chunks created\n",
      "embedding created\n"
     ]
    },
    {
     "name": "stderr",
     "output_type": "stream",
     "text": [
      "Batches: 100%|████████████████████████████████████| 1/1 [00:07<00:00,  7.06s/it]\n"
     ]
    },
    {
     "name": "stdout",
     "output_type": "stream",
     "text": [
      "instance created\n",
      "waking up agent\n"
     ]
    }
   ],
   "source": [
    "    mem_bot = Agent(\n",
    "        \"mem_bot\", 'documents/HilbertSpaceMulti.pdf', True)\n",
    "    mem_bot.new_course()\n",
    "    db_path = '/chroma_db/mem_bot'\n",
    "    mem_bot.load_course()\n",
    "#    mem_bot.start_chat()"
   ]
  },
  {
   "cell_type": "code",
   "execution_count": 3,
   "id": "559a732d-5fc4-4c11-8264-baa40fc96ad5",
   "metadata": {},
   "outputs": [],
   "source": [
    "#mem_bot.add_memory('documents/meowsmeowing.pdf', db_path)\n"
   ]
  },
  {
   "cell_type": "code",
   "execution_count": 4,
   "id": "e92d703e-8147-4344-87b5-67fbb8c68b79",
   "metadata": {},
   "outputs": [
    {
     "name": "stdout",
     "output_type": "stream",
     "text": [
      "agent loaded\n"
     ]
    },
    {
     "name": "stdin",
     "output_type": "stream",
     "text": [
      "Please ask a question about test or type 'exit' to end:  exit\n"
     ]
    },
    {
     "name": "stdout",
     "output_type": "stream",
     "text": [
      "Goodbye BB!\n"
     ]
    }
   ],
   "source": [
    "mem_bot.start_chat()"
   ]
  },
  {
   "cell_type": "code",
   "execution_count": 5,
   "id": "198d79ff-c723-4446-9609-9b7278e67472",
   "metadata": {},
   "outputs": [
    {
     "name": "stdout",
     "output_type": "stream",
     "text": [
      "waking up agent\n"
     ]
    }
   ],
   "source": [
    "mem_bot.load_course()"
   ]
  },
  {
   "cell_type": "code",
   "execution_count": null,
   "id": "34e239ba-4729-4ab3-bd57-980eed94f946",
   "metadata": {},
   "outputs": [],
   "source": []
  }
 ],
 "metadata": {
  "kernelspec": {
   "display_name": "Python 3 (ipykernel)",
   "language": "python",
   "name": "python3"
  },
  "language_info": {
   "codemirror_mode": {
    "name": "ipython",
    "version": 3
   },
   "file_extension": ".py",
   "mimetype": "text/x-python",
   "name": "python",
   "nbconvert_exporter": "python",
   "pygments_lexer": "ipython3",
   "version": "3.11.5"
  }
 },
 "nbformat": 4,
 "nbformat_minor": 5
}
